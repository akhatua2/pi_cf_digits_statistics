{
 "cells": [
  {
   "cell_type": "code",
   "execution_count": 1,
   "id": "2abdba3b",
   "metadata": {},
   "outputs": [],
   "source": [
    "import math\n",
    "import numpy as np\n",
    "import random\n",
    "from collections import Counter\n",
    "from scipy import stats\n",
    "from tqdm import tqdm\n",
    "from scipy import stats"
   ]
  },
  {
   "cell_type": "code",
   "execution_count": 2,
   "id": "d6f48612",
   "metadata": {},
   "outputs": [
    {
     "name": "stderr",
     "output_type": "stream",
     "text": [
      "100%|█████████████████████████████████████████████| 3/3 [00:45<00:00, 15.13s/it]\n"
     ]
    },
    {
     "data": {
      "text/plain": [
       "1000000000"
      ]
     },
     "execution_count": 2,
     "metadata": {},
     "output_type": "execute_result"
    }
   ],
   "source": [
    "from os import walk\n",
    "mypath = '../data/'\n",
    "filenames = next(walk(mypath), (None, None, []))[2] \n",
    "\n",
    "NUM_DIGITS = 1000000\n",
    "NUM_RUNS = 1000\n",
    "pi_cf_digits = []\n",
    "for filename in tqdm(filenames):\n",
    "    pi_digits = np.load(mypath+filename)\n",
    "    pi_cf_digits.extend(pi_digits['arr_0'])\n",
    "pi_cf_digits = pi_cf_digits[1:(NUM_DIGITS*NUM_RUNS) +1]\n",
    "pi_cf_digits = pi_cf_digits[:math.floor((len(pi_cf_digits)/NUM_DIGITS))* NUM_DIGITS]\n",
    "pi_cf_digits = [int(x) for x in pi_cf_digits]\n",
    "len(pi_cf_digits)"
   ]
  },
  {
   "cell_type": "markdown",
   "id": "59baa97a",
   "metadata": {},
   "source": [
    "# Normalized distance"
   ]
  },
  {
   "cell_type": "markdown",
   "id": "c322fcda",
   "metadata": {},
   "source": [
    "### Random Walk"
   ]
  },
  {
   "cell_type": "code",
   "execution_count": 3,
   "id": "0adf583b",
   "metadata": {},
   "outputs": [],
   "source": [
    "nums = [math.log(1+1/(k*(k+2)))/math.log(2) for k in range(1, NUM_DIGITS+1)]\n",
    "distribution = [0 for i in range(4)]\n",
    "for i in range(len(nums)):\n",
    "    distribution[i%4] += nums[i]\n",
    "inv_distribution = [1/distribution[i] for i in range(len(distribution))]\n",
    "normalized_inv_distribution = [float(i)/sum(inv_distribution) for i in inv_distribution]\n",
    "moves = [(1*inv_distribution[0], 0),\n",
    "         (0, 1*inv_distribution[1]),\n",
    "         (-1*inv_distribution[2], 0),\n",
    "         (0, -1*inv_distribution[3])]"
   ]
  },
  {
   "cell_type": "code",
   "execution_count": 4,
   "id": "89506b2d",
   "metadata": {},
   "outputs": [
    {
     "data": {
      "text/plain": [
       "[(2.000001442695982, 0),\n",
       " (0, 4.18055196959628),\n",
       " (-6.600844419128332, 0),\n",
       " (0, -9.149106876384758)]"
      ]
     },
     "execution_count": 4,
     "metadata": {},
     "output_type": "execute_result"
    }
   ],
   "source": [
    "moves"
   ]
  },
  {
   "cell_type": "code",
   "execution_count": 5,
   "id": "187d5114",
   "metadata": {},
   "outputs": [
    {
     "data": {
      "text/plain": [
       "[0.49999963932626473,\n",
       " 0.23920286298858545,\n",
       " 0.15149576879923704,\n",
       " 0.10930028619308763]"
      ]
     },
     "execution_count": 5,
     "metadata": {},
     "output_type": "execute_result"
    }
   ],
   "source": [
    "distribution"
   ]
  },
  {
   "cell_type": "code",
   "execution_count": 6,
   "id": "49d406ba",
   "metadata": {},
   "outputs": [],
   "source": [
    "def dist_from_origin(coordinates):\n",
    "    return math.sqrt((coordinates[0]**2) + (coordinates[1]**2))"
   ]
  },
  {
   "cell_type": "code",
   "execution_count": 7,
   "id": "e323127e",
   "metadata": {},
   "outputs": [],
   "source": [
    "def single_random_walk_run(random_dist):\n",
    "    random_walk = [(0, 0)]\n",
    "    for i in rand_distribution:\n",
    "        random_walk.append((random_walk[-1][0] + moves[i%4][0], random_walk[-1][1] + moves[i%4][1]))\n",
    "    distance = 0\n",
    "    for i in random_walk[1:]:\n",
    "        distance += dist_from_origin(i)\n",
    "    avg_dist = distance/(NUM_DIGITS * 500*math.pi)\n",
    "    return avg_dist"
   ]
  },
  {
   "cell_type": "code",
   "execution_count": 8,
   "id": "b892bebd",
   "metadata": {},
   "outputs": [
    {
     "name": "stderr",
     "output_type": "stream",
     "text": [
      "100%|███████████████████████████████████████| 1000/1000 [12:42<00:00,  1.31it/s]\n"
     ]
    }
   ],
   "source": [
    "avg_distances = []\n",
    "for i in tqdm(range(NUM_RUNS)):\n",
    "    rand_distribution = random.choices([0, 1, 2, 3], weights = distribution, k = NUM_DIGITS)\n",
    "    avg_distances.append(single_random_walk_run(rand_distribution))"
   ]
  },
  {
   "cell_type": "code",
   "execution_count": 9,
   "id": "80130a91",
   "metadata": {},
   "outputs": [
    {
     "data": {
      "text/plain": [
       "DescribeResult(nobs=1000, minmax=(0.525199098305482, 5.20868758913382), mean=1.7712678264263217, variance=0.5376952457471398, skewness=1.0203981005403895, kurtosis=1.2553391883861575)"
      ]
     },
     "execution_count": 9,
     "metadata": {},
     "output_type": "execute_result"
    }
   ],
   "source": [
    "stats.describe(avg_distances)"
   ]
  },
  {
   "cell_type": "markdown",
   "id": "4d59bffc",
   "metadata": {},
   "source": [
    "### $\\pi$ Walk"
   ]
  },
  {
   "cell_type": "code",
   "execution_count": 10,
   "id": "178de362",
   "metadata": {},
   "outputs": [],
   "source": [
    "groups = list(np.array_split(pi_cf_digits, NUM_RUNS))"
   ]
  },
  {
   "cell_type": "code",
   "execution_count": 11,
   "id": "3d34d89c",
   "metadata": {},
   "outputs": [],
   "source": [
    "def pi_walk(pi_digits):\n",
    "    mod_4_digits = [(i-1)%4 for i in pi_digits]\n",
    "    pi_walk = [(0, 0)]\n",
    "    for i in range(len(mod_4_digits)):\n",
    "        pi_walk.append((pi_walk[-1][0] + moves[mod_4_digits[i]][0], pi_walk[-1][1] + moves[mod_4_digits[i]][1]))\n",
    "    total_distance = 0\n",
    "    for i in range(len(pi_walk)):\n",
    "        total_distance += dist_from_origin(pi_walk[i])\n",
    "    return total_distance/(NUM_DIGITS * 500*math.pi)"
   ]
  },
  {
   "cell_type": "code",
   "execution_count": 12,
   "id": "2a0f75ac",
   "metadata": {},
   "outputs": [
    {
     "name": "stderr",
     "output_type": "stream",
     "text": [
      "100%|███████████████████████████████████████| 1000/1000 [15:52<00:00,  1.05it/s]\n"
     ]
    }
   ],
   "source": [
    "avg_pi_distances = []\n",
    "test = []\n",
    "for i in tqdm(range(NUM_RUNS)):\n",
    "    avg_pi_distances.append(pi_walk(groups[i]))"
   ]
  },
  {
   "cell_type": "code",
   "execution_count": 13,
   "id": "8cc6fed1",
   "metadata": {},
   "outputs": [
    {
     "data": {
      "text/plain": [
       "DescribeResult(nobs=1000, minmax=(0.561931025874709, 4.682126995385607), mean=1.7467031852067483, variance=0.5131872149904297, skewness=0.8894734961739355, kurtosis=0.7972315617386845)"
      ]
     },
     "execution_count": 13,
     "metadata": {},
     "output_type": "execute_result"
    }
   ],
   "source": [
    "stats.describe(avg_pi_distances)"
   ]
  },
  {
   "cell_type": "markdown",
   "id": "9cc491b5",
   "metadata": {},
   "source": [
    "# Sites visited"
   ]
  },
  {
   "cell_type": "markdown",
   "id": "a11e3748",
   "metadata": {},
   "source": [
    "### Random Walk"
   ]
  },
  {
   "cell_type": "code",
   "execution_count": 14,
   "id": "892d0a4b",
   "metadata": {},
   "outputs": [],
   "source": [
    "nums = [math.log(1+1/(k*(k+2)))/math.log(2) for k in range(1, NUM_DIGITS+1)]\n",
    "distribution = [0 for i in range(4)]\n",
    "for i in range(len(nums)):\n",
    "    distribution[i%4] += nums[i]\n",
    "inv_distribution = [1/distribution[i] for i in range(len(distribution))]\n",
    "normalized_inv_distribution = [float(i)/np.average(inv_distribution) for i in inv_distribution]\n",
    "moves = [(1*normalized_inv_distribution[0], 0),\n",
    "         (0, 1*normalized_inv_distribution[1]),\n",
    "         (-1*normalized_inv_distribution[2], 0),\n",
    "         (0, -1*normalized_inv_distribution[3])]"
   ]
  },
  {
   "cell_type": "code",
   "execution_count": 15,
   "id": "c06ed8f6",
   "metadata": {},
   "outputs": [
    {
     "data": {
      "text/plain": [
       "[(0.3647889493367027, 0),\n",
       " (0, 0.7625090302838979),\n",
       " (-1.2039566817226974, 0),\n",
       " (0, -1.6687453386567015)]"
      ]
     },
     "execution_count": 15,
     "metadata": {},
     "output_type": "execute_result"
    }
   ],
   "source": [
    "moves"
   ]
  },
  {
   "cell_type": "code",
   "execution_count": 16,
   "id": "80f3c90d",
   "metadata": {},
   "outputs": [],
   "source": [
    "def single_random_walk_run(random_dist):\n",
    "    random_walk = [(0, 0)]\n",
    "    for i in rand_distribution:\n",
    "        random_walk.append((random_walk[-1][0] + moves[i%4][0], random_walk[-1][1] + moves[i%4][1]))\n",
    "    sites = set()\n",
    "    for i in random_walk:\n",
    "        sites.add((math.floor(i[0]), math.floor(i[1])))\n",
    "    return len(sites)"
   ]
  },
  {
   "cell_type": "code",
   "execution_count": 17,
   "id": "a67bbb1e",
   "metadata": {},
   "outputs": [
    {
     "name": "stderr",
     "output_type": "stream",
     "text": [
      "100%|███████████████████████████████████████| 1000/1000 [15:52<00:00,  1.05it/s]\n"
     ]
    }
   ],
   "source": [
    "sites_visited = []\n",
    "for i in tqdm(range(NUM_RUNS)):\n",
    "    rand_distribution = random.choices([0, 1, 2, 3], weights = distribution, k = NUM_DIGITS)\n",
    "    sites_visited.append(single_random_walk_run(rand_distribution))"
   ]
  },
  {
   "cell_type": "code",
   "execution_count": 18,
   "id": "327883a8",
   "metadata": {},
   "outputs": [
    {
     "data": {
      "text/plain": [
       "DescribeResult(nobs=1000, minmax=(90854, 176387), mean=147905.047, variance=134260828.44123223, skewness=-0.6297412032768313, kurtosis=0.9257049837853848)"
      ]
     },
     "execution_count": 18,
     "metadata": {},
     "output_type": "execute_result"
    }
   ],
   "source": [
    "stats.describe(sites_visited)"
   ]
  },
  {
   "cell_type": "markdown",
   "id": "86ab0ccb",
   "metadata": {},
   "source": [
    "### $\\pi$ Walk"
   ]
  },
  {
   "cell_type": "code",
   "execution_count": 19,
   "id": "93c0425a",
   "metadata": {},
   "outputs": [],
   "source": [
    "groups = list(np.array_split(pi_cf_digits, NUM_RUNS))"
   ]
  },
  {
   "cell_type": "code",
   "execution_count": 20,
   "id": "b9ade805",
   "metadata": {},
   "outputs": [],
   "source": [
    "def pi_walk(pi_digits):\n",
    "    mod_4_digits = [(i-1)%4 for i in pi_digits]\n",
    "    pi_walk = [(0, 0)]\n",
    "    for i in range(len(mod_4_digits)):\n",
    "        pi_walk.append((pi_walk[-1][0] + moves[mod_4_digits[i]][0], pi_walk[-1][1] + moves[mod_4_digits[i]][1]))\n",
    "    sites = set()\n",
    "    for i in pi_walk:\n",
    "        sites.add((math.floor(i[0]), math.floor(i[1])))\n",
    "    return len(sites)"
   ]
  },
  {
   "cell_type": "code",
   "execution_count": 21,
   "id": "5c95daa8",
   "metadata": {},
   "outputs": [
    {
     "name": "stderr",
     "output_type": "stream",
     "text": [
      "100%|███████████████████████████████████████| 1000/1000 [15:14<00:00,  1.09it/s]\n"
     ]
    }
   ],
   "source": [
    "sites_visited_pi = []\n",
    "for i in tqdm(range(NUM_RUNS)):\n",
    "    sites_visited_pi.append(pi_walk(groups[i]))"
   ]
  },
  {
   "cell_type": "code",
   "execution_count": 22,
   "id": "1f10cafd",
   "metadata": {},
   "outputs": [
    {
     "data": {
      "text/plain": [
       "DescribeResult(nobs=1000, minmax=(97143, 172690), mean=146080.107, variance=137343287.3529039, skewness=-0.48425332725778186, kurtosis=0.17904975432847792)"
      ]
     },
     "execution_count": 22,
     "metadata": {},
     "output_type": "execute_result"
    }
   ],
   "source": [
    "stats.describe(sites_visited_pi)"
   ]
  }
 ],
 "metadata": {
  "kernelspec": {
   "display_name": "Python 3 (ipykernel)",
   "language": "python",
   "name": "python3"
  },
  "language_info": {
   "codemirror_mode": {
    "name": "ipython",
    "version": 3
   },
   "file_extension": ".py",
   "mimetype": "text/x-python",
   "name": "python",
   "nbconvert_exporter": "python",
   "pygments_lexer": "ipython3",
   "version": "3.9.12"
  }
 },
 "nbformat": 4,
 "nbformat_minor": 5
}
