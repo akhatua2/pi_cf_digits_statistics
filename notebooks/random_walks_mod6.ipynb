{
 "cells": [
  {
   "cell_type": "code",
   "execution_count": 99,
   "id": "2abdba3b",
   "metadata": {},
   "outputs": [],
   "source": [
    "import math\n",
    "import numpy as np\n",
    "import random\n",
    "from collections import Counter\n",
    "from scipy import stats\n",
    "from tqdm import tqdm\n",
    "from scipy import stats"
   ]
  },
  {
   "cell_type": "code",
   "execution_count": 100,
   "id": "d6f48612",
   "metadata": {},
   "outputs": [
    {
     "name": "stderr",
     "output_type": "stream",
     "text": [
      "100%|█████████████████████████████████████████████| 3/3 [00:31<00:00, 10.61s/it]\n"
     ]
    },
    {
     "data": {
      "text/plain": [
       "1000000000"
      ]
     },
     "execution_count": 100,
     "metadata": {},
     "output_type": "execute_result"
    }
   ],
   "source": [
    "from os import walk\n",
    "mypath = '../data/'\n",
    "filenames = next(walk(mypath), (None, None, []))[2] \n",
    "\n",
    "NUM_DIGITS = 1000000\n",
    "NUM_RUNS = 1000\n",
    "pi_cf_digits = []\n",
    "for filename in tqdm(filenames):\n",
    "    pi_digits = np.load(mypath+filename)\n",
    "    pi_cf_digits.extend(pi_digits['arr_0'])\n",
    "pi_cf_digits = pi_cf_digits[1:(NUM_DIGITS*NUM_RUNS) +1]\n",
    "pi_cf_digits = pi_cf_digits[:math.floor((len(pi_cf_digits)/NUM_DIGITS))* NUM_DIGITS]\n",
    "pi_cf_digits = [int(x) for x in pi_cf_digits]\n",
    "#NUM_RUNS = len(pi_cf_digits)//NUM_DIGITS\n",
    "len(pi_cf_digits)"
   ]
  },
  {
   "cell_type": "code",
   "execution_count": 101,
   "id": "aef6f585",
   "metadata": {},
   "outputs": [
    {
     "data": {
      "text/plain": [
       "1000000000"
      ]
     },
     "execution_count": 101,
     "metadata": {},
     "output_type": "execute_result"
    }
   ],
   "source": [
    "len(pi_cf_digits)"
   ]
  },
  {
   "cell_type": "markdown",
   "id": "59baa97a",
   "metadata": {},
   "source": [
    "# Normalized distance"
   ]
  },
  {
   "cell_type": "markdown",
   "id": "c322fcda",
   "metadata": {},
   "source": [
    "### Random Walk"
   ]
  },
  {
   "cell_type": "code",
   "execution_count": 102,
   "id": "0adf583b",
   "metadata": {},
   "outputs": [],
   "source": [
    "nums = [math.log(1+1/(k*(k+2)))/math.log(2) for k in range(1, NUM_DIGITS+1)]\n",
    "distribution = [0 for i in range(6)]\n",
    "for i in range(len(nums)):\n",
    "    distribution[i%6] += nums[i]\n",
    "inv_distribution = [1/distribution[i] for i in range(len(distribution))]\n",
    "normalized_inv_distribution = [float(i)/sum(inv_distribution) for i in inv_distribution]\n",
    "moves = [(1*inv_distribution[0], 0, 0),\n",
    "         (0, 1*inv_distribution[1], 0),\n",
    "         (-1*inv_distribution[2], 0, 0),\n",
    "         (0, -1*inv_distribution[3], 0),\n",
    "         (0, 0, 1*inv_distribution[4]),\n",
    "         (0, 0, -1*inv_distribution[5])]"
   ]
  },
  {
   "cell_type": "code",
   "execution_count": 103,
   "id": "89506b2d",
   "metadata": {},
   "outputs": [
    {
     "data": {
      "text/plain": [
       "[(2.1779485141953954, 0, 0),\n",
       " (0, 4.8188472628280135, 0),\n",
       " (-7.948219369940639, 0, 0),\n",
       " (0, -11.388675163458192, 0),\n",
       " (0, 0, 15.0300477027423),\n",
       " (0, 0, -18.80472852277334)]"
      ]
     },
     "execution_count": 103,
     "metadata": {},
     "output_type": "execute_result"
    }
   ],
   "source": [
    "moves"
   ]
  },
  {
   "cell_type": "code",
   "execution_count": 104,
   "id": "187d5114",
   "metadata": {},
   "outputs": [
    {
     "data": {
      "text/plain": [
       "[0.4591476765783108,\n",
       " 0.2075185091907509,\n",
       " 0.1258143432454694,\n",
       " 0.08780652583793146,\n",
       " 0.06653338830172478,\n",
       " 0.05317811415298853]"
      ]
     },
     "execution_count": 104,
     "metadata": {},
     "output_type": "execute_result"
    }
   ],
   "source": [
    "distribution"
   ]
  },
  {
   "cell_type": "code",
   "execution_count": 105,
   "id": "49d406ba",
   "metadata": {},
   "outputs": [],
   "source": [
    "def dist_from_origin(coordinates):\n",
    "    return math.sqrt((coordinates[0]**2) + (coordinates[1]**2) + (coordinates[2]**2))"
   ]
  },
  {
   "cell_type": "code",
   "execution_count": 106,
   "id": "e323127e",
   "metadata": {},
   "outputs": [],
   "source": [
    "def single_random_walk_run(random_dist):\n",
    "    random_walk = [(0, 0, 0)]\n",
    "    for i in rand_distribution:\n",
    "        random_walk.append((random_walk[-1][0] + moves[i][0], \\\n",
    "                            random_walk[-1][1] + moves[i][1], random_walk[-1][2] + moves[i][2]))\n",
    "    distance = 0\n",
    "    for i in random_walk[1:]:\n",
    "        distance += dist_from_origin(i)\n",
    "    avg_dist = distance/(NUM_DIGITS)\n",
    "    return avg_dist"
   ]
  },
  {
   "cell_type": "code",
   "execution_count": 107,
   "id": "b892bebd",
   "metadata": {},
   "outputs": [
    {
     "name": "stderr",
     "output_type": "stream",
     "text": [
      "100%|███████████████████████████████████████| 1000/1000 [10:24<00:00,  1.60it/s]\n"
     ]
    }
   ],
   "source": [
    "avg_distances = []\n",
    "for i in tqdm(range(NUM_RUNS)):\n",
    "    rand_distribution = random.choices([0, 1, 2, 3, 4, 5], weights = distribution, k = NUM_DIGITS)\n",
    "    avg_distances.append(single_random_walk_run(rand_distribution))"
   ]
  },
  {
   "cell_type": "code",
   "execution_count": 108,
   "id": "80130a91",
   "metadata": {},
   "outputs": [
    {
     "data": {
      "text/plain": [
       "DescribeResult(nobs=1000, minmax=(1625.346993894233, 11850.834440678807), mean=4684.282160835811, variance=2522206.1785858697, skewness=0.8701215176095131, kurtosis=1.0268613549881973)"
      ]
     },
     "execution_count": 108,
     "metadata": {},
     "output_type": "execute_result"
    }
   ],
   "source": [
    "stats.describe(avg_distances)"
   ]
  },
  {
   "cell_type": "markdown",
   "id": "4d59bffc",
   "metadata": {},
   "source": [
    "### $\\pi$ Walk"
   ]
  },
  {
   "cell_type": "code",
   "execution_count": 109,
   "id": "178de362",
   "metadata": {},
   "outputs": [],
   "source": [
    "groups = list(np.array_split(pi_cf_digits, NUM_RUNS))"
   ]
  },
  {
   "cell_type": "code",
   "execution_count": 110,
   "id": "3d34d89c",
   "metadata": {},
   "outputs": [],
   "source": [
    "def pi_walk(pi_digits):\n",
    "    mod_6_digits = [(i-1)%6 for i in pi_digits]\n",
    "    pi_walk = [(0, 0, 0)]\n",
    "    for i in range(len(mod_6_digits)):\n",
    "        pi_walk.append((pi_walk[-1][0] + moves[mod_6_digits[i]][0], pi_walk[-1][1] + moves[mod_6_digits[i]][1]\\\n",
    "                       , pi_walk[-1][2] + moves[mod_6_digits[i]][2]))\n",
    "    total_distance = 0\n",
    "    for i in range(len(pi_walk)):\n",
    "        total_distance += dist_from_origin(pi_walk[i])\n",
    "    return total_distance/(NUM_DIGITS)"
   ]
  },
  {
   "cell_type": "code",
   "execution_count": 111,
   "id": "2a0f75ac",
   "metadata": {},
   "outputs": [
    {
     "name": "stderr",
     "output_type": "stream",
     "text": [
      "100%|███████████████████████████████████████| 1000/1000 [21:07<00:00,  1.27s/it]\n"
     ]
    }
   ],
   "source": [
    "avg_pi_distances = []\n",
    "test = []\n",
    "for i in tqdm(range(NUM_RUNS)):\n",
    "    avg_pi_distances.append(pi_walk(groups[i]))\n"
   ]
  },
  {
   "cell_type": "code",
   "execution_count": 112,
   "id": "8cc6fed1",
   "metadata": {},
   "outputs": [
    {
     "data": {
      "text/plain": [
       "DescribeResult(nobs=1000, minmax=(1380.0823643908398, 13175.605412158338), mean=4694.231554547194, variance=2976212.7692270693, skewness=1.0277336015417327, kurtosis=1.5886561419378884)"
      ]
     },
     "execution_count": 112,
     "metadata": {},
     "output_type": "execute_result"
    }
   ],
   "source": [
    "stats.describe(avg_pi_distances)"
   ]
  },
  {
   "cell_type": "markdown",
   "id": "9cc491b5",
   "metadata": {},
   "source": [
    "# Sites visited"
   ]
  },
  {
   "cell_type": "markdown",
   "id": "a11e3748",
   "metadata": {},
   "source": [
    "### Random Walk"
   ]
  },
  {
   "cell_type": "code",
   "execution_count": 113,
   "id": "892d0a4b",
   "metadata": {},
   "outputs": [],
   "source": [
    "nums = [math.log(1+1/(k*(k+2)))/math.log(2) for k in range(1, NUM_DIGITS+1)]\n",
    "distribution = [0 for i in range(6)]\n",
    "for i in range(len(nums)):\n",
    "    distribution[i%6] += nums[i]\n",
    "inv_distribution = [1/distribution[i] for i in range(len(distribution))]\n",
    "normalized_inv_distribution = [float(i)/sum(inv_distribution) for i in inv_distribution]\n",
    "moves = [(1*normalized_inv_distribution[0], 0, 0),\n",
    "         (0, 1*normalized_inv_distribution[1], 0),\n",
    "         (0, 0, 1*normalized_inv_distribution[2]),\n",
    "         (-1*normalized_inv_distribution[3], 0, 0),\n",
    "         (0, -1*normalized_inv_distribution[4], 0),\n",
    "         (0, 0, -1*normalized_inv_distribution[5])]"
   ]
  },
  {
   "cell_type": "code",
   "execution_count": 114,
   "id": "c06ed8f6",
   "metadata": {},
   "outputs": [
    {
     "data": {
      "text/plain": [
       "[(0.036197507425164865, 0, 0),\n",
       " (0, 0.08008924840970935, 0),\n",
       " (0, 0, 0.13209941731177852),\n",
       " (-0.1892797975274287, 0, 0),\n",
       " (0, -0.24979941434547012, 0),\n",
       " (0, 0, -0.3125346149804484)]"
      ]
     },
     "execution_count": 114,
     "metadata": {},
     "output_type": "execute_result"
    }
   ],
   "source": [
    "moves"
   ]
  },
  {
   "cell_type": "code",
   "execution_count": 115,
   "id": "80f3c90d",
   "metadata": {},
   "outputs": [],
   "source": [
    "def single_random_walk_run(random_dist):\n",
    "    random_walk = [(0, 0, 0)]\n",
    "    for i in rand_distribution:\n",
    "        random_walk.append((random_walk[-1][0] + moves[i][0], \\\n",
    "                            random_walk[-1][1] + moves[i][1], random_walk[-1][2] + moves[i][2]))\n",
    "    sites = set()\n",
    "    for i in random_walk:\n",
    "        sites.add((math.floor(i[0]), math.floor(i[1]), math.floor(i[2])))\n",
    "    return len(sites)"
   ]
  },
  {
   "cell_type": "code",
   "execution_count": 116,
   "id": "a67bbb1e",
   "metadata": {},
   "outputs": [
    {
     "name": "stderr",
     "output_type": "stream",
     "text": [
      "100%|███████████████████████████████████████| 1000/1000 [13:56<00:00,  1.20it/s]\n"
     ]
    }
   ],
   "source": [
    "sites_visited = []\n",
    "for i in tqdm(range(NUM_RUNS)):\n",
    "    rand_distribution = random.choices([0, 1, 2, 3, 4, 5], weights = distribution, k = NUM_DIGITS)\n",
    "    sites_visited.append(single_random_walk_run(rand_distribution))"
   ]
  },
  {
   "cell_type": "code",
   "execution_count": 117,
   "id": "327883a8",
   "metadata": {},
   "outputs": [
    {
     "data": {
      "text/plain": [
       "DescribeResult(nobs=1000, minmax=(17784, 21548), mean=20094.057, variance=207318.97872972972, skewness=-0.40178150837036014, kurtosis=0.6984989345841526)"
      ]
     },
     "execution_count": 117,
     "metadata": {},
     "output_type": "execute_result"
    }
   ],
   "source": [
    "stats.describe(sites_visited)"
   ]
  },
  {
   "cell_type": "markdown",
   "id": "86ab0ccb",
   "metadata": {},
   "source": [
    "### $\\pi$ Walk"
   ]
  },
  {
   "cell_type": "code",
   "execution_count": 118,
   "id": "93c0425a",
   "metadata": {},
   "outputs": [],
   "source": [
    "groups = list(np.array_split(pi_cf_digits, NUM_RUNS))"
   ]
  },
  {
   "cell_type": "code",
   "execution_count": 119,
   "id": "b9ade805",
   "metadata": {},
   "outputs": [],
   "source": [
    "def pi_walk(pi_digits):\n",
    "    mod_6_digits = [(i-1)%6 for i in pi_digits]\n",
    "    pi_walk = [(0, 0, 0)]\n",
    "    for i in range(len(mod_6_digits)):\n",
    "        pi_walk.append((pi_walk[-1][0] + moves[mod_6_digits[i]][0], pi_walk[-1][1] + moves[mod_6_digits[i]][1]\\\n",
    "                       , pi_walk[-1][2] + moves[mod_6_digits[i]][2]))\n",
    "    sites = set()\n",
    "    for i in pi_walk:\n",
    "        sites.add((math.floor(i[0]), math.floor(i[1]), math.floor(i[2])))\n",
    "    return len(sites)"
   ]
  },
  {
   "cell_type": "code",
   "execution_count": 120,
   "id": "5c95daa8",
   "metadata": {},
   "outputs": [
    {
     "name": "stderr",
     "output_type": "stream",
     "text": [
      "100%|███████████████████████████████████████| 1000/1000 [18:41<00:00,  1.12s/it]\n"
     ]
    }
   ],
   "source": [
    "sites_visited_pi = []\n",
    "for i in tqdm(range(NUM_RUNS)):\n",
    "    sites_visited_pi.append(pi_walk(groups[i]))"
   ]
  },
  {
   "cell_type": "code",
   "execution_count": 121,
   "id": "1f10cafd",
   "metadata": {},
   "outputs": [
    {
     "data": {
      "text/plain": [
       "DescribeResult(nobs=1000, minmax=(17880, 21135), mean=19854.228, variance=193608.84285885887, skewness=-0.33934763823166925, kurtosis=0.7240743243515158)"
      ]
     },
     "execution_count": 121,
     "metadata": {},
     "output_type": "execute_result"
    }
   ],
   "source": [
    "stats.describe(sites_visited_pi)"
   ]
  }
 ],
 "metadata": {
  "kernelspec": {
   "display_name": "Python 3 (ipykernel)",
   "language": "python",
   "name": "python3"
  },
  "language_info": {
   "codemirror_mode": {
    "name": "ipython",
    "version": 3
   },
   "file_extension": ".py",
   "mimetype": "text/x-python",
   "name": "python",
   "nbconvert_exporter": "python",
   "pygments_lexer": "ipython3",
   "version": "3.9.12"
  }
 },
 "nbformat": 4,
 "nbformat_minor": 5
}
