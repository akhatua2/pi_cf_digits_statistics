{
 "cells": [
  {
   "cell_type": "code",
   "execution_count": null,
   "id": "5e946cfa",
   "metadata": {},
   "outputs": [],
   "source": [
    "import numpy as np\n",
    "from scipy import stats\n",
    "import math\n",
    "from collections import defaultdict, Counter\n",
    "from tqdm import tqdm\n",
    "import pandas as pd\n",
    "import os  \n",
    "import time"
   ]
  },
  {
   "cell_type": "code",
   "execution_count": null,
   "id": "8a6551c9",
   "metadata": {},
   "outputs": [],
   "source": [
    "MILLION = 1000000\n",
    "GROUPS = 20\n",
    "BLOCKSIZE = MILLION"
   ]
  },
  {
   "cell_type": "code",
   "execution_count": null,
   "id": "73243642",
   "metadata": {},
   "outputs": [],
   "source": [
    "from os import walk\n",
    "mypath = '../data/'\n",
    "filenames = next(walk(mypath), (None, None, []))[2] \n",
    "\n",
    "pi_cf_digits = []\n",
    "for filename in tqdm(filenames):\n",
    "    pi_digits = np.load(filename)\n",
    "    pi_cf_digits.extend(pi_digits['arr_0'])\n",
    "pi_cf_digits = pi_cf_digits[:math.floor((len(pi_cf_digits)/BLOCKSIZE))* BLOCKSIZE]\n",
    "pi_cf_digits = [int(x) for x in pi_cf_digits]\n",
    "len(pi_cf_digits)"
   ]
  },
  {
   "cell_type": "markdown",
   "id": "917b0953",
   "metadata": {},
   "source": [
    "# Chi-square Test V1"
   ]
  },
  {
   "cell_type": "code",
   "execution_count": null,
   "id": "5a6b1e02",
   "metadata": {},
   "outputs": [],
   "source": [
    "def ChiSquare(data, blocksize=100, number_of_groups=5):\n",
    "    p_val_arr = []\n",
    "    q_res_arr = []\n",
    "    number_of_blocks = len(data)/blocksize\n",
    "    \n",
    "    groups = list(np.array_split(data, number_of_blocks))\n",
    "    \n",
    "    def P(num_of_groups):\n",
    "        res = []\n",
    "        for k in range(1, num_of_groups+1):\n",
    "            res.append(math.log(1+1/(k*(k+2)))/math.log(2))\n",
    "        res.append(1-sum(res))\n",
    "        return res\n",
    "\n",
    "    def Y(number_of_groups, pi_digits):\n",
    "        Y = [0] * (number_of_groups+1)\n",
    "        for digit in pi_digits:\n",
    "            if digit > number_of_groups:\n",
    "                Y[-1] += 1\n",
    "            else:\n",
    "                Y[digit-1] += 1\n",
    "        return Y\n",
    "\n",
    "    def chisquare_test(y_array, blocksize, p_array, number_of_groups):\n",
    "        q_val = 0\n",
    "        for i in range(number_of_groups):\n",
    "            q_val += ((y_array[i] - blocksize*p_array[i])**2)/(blocksize*p_array[i])\n",
    "        return q_val\n",
    "    p_array = P(number_of_groups)\n",
    "    assert(len(p_array) == (number_of_groups + 1))\n",
    "    for pi_cf_digits in tqdm(groups):\n",
    "        pi_digits = list(pi_cf_digits)\n",
    "\n",
    "        y_array = Y(number_of_groups, pi_digits)\n",
    "        assert(len(y_array) == (number_of_groups + 1))\n",
    "        \n",
    "        q_res = chisquare_test(y_array, blocksize, p_array, number_of_groups+1)\n",
    "        p_val = 1 - stats.chi2.cdf(q_res , number_of_groups)\n",
    "        \n",
    "        p_val_arr.append(p_val)\n",
    "        q_res_arr.append(q_res)\n",
    "        \n",
    "    assert(len(p_val_arr) == (number_of_blocks))\n",
    "    assert(len(q_res_arr) == (number_of_blocks))\n",
    "\n",
    "    result = defaultdict(list)\n",
    "    for p_val, q_val in zip(p_val_arr, q_res_arr):\n",
    "        result['p-value'].append(p_val)\n",
    "        result['chi-square value'].append(q_val)\n",
    "    df = pd.DataFrame(data=result)\n",
    "    filename = 'chi-square-results-' + str(len(data)) +'-pi-digits-' + \\\n",
    "                str(int(number_of_blocks)) + '-blocks-' + str(number_of_groups) \\\n",
    "                + '-groups'\n",
    "    df.to_csv(filename + '.csv') \n",
    "    return p_val_arr, q_res_arr"
   ]
  },
  {
   "cell_type": "code",
   "execution_count": null,
   "id": "4c17e820",
   "metadata": {},
   "outputs": [],
   "source": [
    "# start_time = time.time()\n",
    "# p_val_arrV1, q_res_arrV1 = ChiSquare(pi_cf_digits, BLOCKSIZE, GROUPS)\n",
    "# print(\"Version 1 took \", time.time() - start_time, \" seconds\")"
   ]
  },
  {
   "cell_type": "markdown",
   "id": "b2bdbf3f",
   "metadata": {},
   "source": [
    "# Chi-square Test V2"
   ]
  },
  {
   "cell_type": "code",
   "execution_count": null,
   "id": "71875fef",
   "metadata": {},
   "outputs": [],
   "source": [
    "import time\n",
    "from joblib import Parallel, delayed"
   ]
  },
  {
   "cell_type": "code",
   "execution_count": null,
   "id": "5b30e1ac",
   "metadata": {},
   "outputs": [],
   "source": [
    "def ChiSquare(data, blocksize=100, number_of_groups=5):\n",
    "    p_val_arr = []\n",
    "    q_res_arr = []\n",
    "    number_of_blocks = len(data)/blocksize\n",
    "    \n",
    "    groups = list(np.array_split(data, number_of_blocks))\n",
    "    \n",
    "    def P(num_of_groups):\n",
    "        res = []\n",
    "        for k in range(1, num_of_groups+1):\n",
    "            res.append(math.log(1+1/(k*(k+2)))/math.log(2))\n",
    "        res.append(1-sum(res))\n",
    "        return res\n",
    "\n",
    "    def Y(number_of_groups, pi_digits):\n",
    "        Y = [0] * (number_of_groups+1)\n",
    "        for digit in pi_digits:\n",
    "            if digit > number_of_groups:\n",
    "                Y[-1] += 1\n",
    "            else:\n",
    "                Y[digit-1] += 1\n",
    "        return Y\n",
    "\n",
    "    def chisquare_test(y_array, blocksize, p_array, number_of_groups):\n",
    "        q_val = 0\n",
    "        for i in range(number_of_groups):\n",
    "            q_val += ((y_array[i] - blocksize*p_array[i])**2)/(blocksize*p_array[i])\n",
    "        return q_val\n",
    "    \n",
    "    def parallelized_testing(pi_cf_digits):\n",
    "        pi_digits = list(pi_cf_digits)\n",
    "\n",
    "        y_array = Y(number_of_groups, pi_digits)\n",
    "        assert(len(y_array) == (number_of_groups + 1))\n",
    "\n",
    "        p_array = P(number_of_groups)\n",
    "        assert(len(p_array) == (number_of_groups + 1))\n",
    "\n",
    "        q_res = chisquare_test(y_array, blocksize, p_array, number_of_groups+1)\n",
    "\n",
    "        p_val = 1 - stats.chi2.cdf(q_res , number_of_groups)\n",
    "        return q_res, p_val\n",
    "    \n",
    "    q_p_arr_val = Parallel(n_jobs=12)(delayed(parallelized_testing)(pi_cf_digits) for pi_cf_digits in groups)\n",
    "    q_res_arr = [q_p[0] for q_p in q_p_arr_val]\n",
    "    p_val_arr = [q_p[1] for q_p in q_p_arr_val]\n",
    "    \n",
    "    assert(len(p_val_arr) == (number_of_blocks))\n",
    "    assert(len(q_res_arr) == (number_of_blocks))\n",
    "\n",
    "    result = defaultdict(list)\n",
    "    for p_val, q_val in zip(p_val_arr, q_res_arr):\n",
    "        result['p-value'].append(p_val)\n",
    "        result['chi-square value'].append(q_val)\n",
    "    df = pd.DataFrame(data=result)\n",
    "    filename = 'chi-square-results-' + str(len(data)) +'-pi-digits-' + \\\n",
    "                str(int(number_of_blocks)) + '-blocks-' + str(number_of_groups) \\\n",
    "                + '-groups'\n",
    "    df.to_csv(filename + '.csv') \n",
    "    return p_val_arr, q_res_arr"
   ]
  },
  {
   "cell_type": "code",
   "execution_count": null,
   "id": "00ac1d3e",
   "metadata": {},
   "outputs": [],
   "source": [
    "start_time = time.time()\n",
    "p_val_arrV2, q_res_arrV2 = ChiSquare(pi_cf_digits, BLOCKSIZE, GROUPS)\n",
    "print(\"Version 2 took \", time.time() - start_time, \" seconds\")"
   ]
  },
  {
   "cell_type": "markdown",
   "id": "75e209eb",
   "metadata": {},
   "source": [
    "### Confirm $V_1$ and $V_2$ are same"
   ]
  },
  {
   "cell_type": "code",
   "execution_count": null,
   "id": "b64c0cea",
   "metadata": {},
   "outputs": [],
   "source": [
    "(p_val_arrV1 == p_val_arrV2) and (q_res_arrV1 == q_res_arrV2)"
   ]
  },
  {
   "cell_type": "code",
   "execution_count": null,
   "id": "4bbf7911",
   "metadata": {},
   "outputs": [],
   "source": [
    "len(q_res_arrV2)"
   ]
  },
  {
   "cell_type": "markdown",
   "id": "603cb297",
   "metadata": {},
   "source": [
    "# Kolmogorov-Smirnov Test"
   ]
  },
  {
   "cell_type": "code",
   "execution_count": null,
   "id": "6b69c97b",
   "metadata": {},
   "outputs": [],
   "source": [
    "stats.kstest(q_res_arrV2, stats.chi2(GROUPS).cdf)"
   ]
  },
  {
   "cell_type": "code",
   "execution_count": null,
   "id": "3ba4dbe4",
   "metadata": {},
   "outputs": [],
   "source": [
    "stats.kstest(p_val_arrV2, 'uniform')"
   ]
  },
  {
   "cell_type": "markdown",
   "id": "901e7435",
   "metadata": {},
   "source": [
    "# Anderson-Darling"
   ]
  },
  {
   "cell_type": "code",
   "execution_count": null,
   "id": "c948c24d",
   "metadata": {},
   "outputs": [],
   "source": [
    "#stats.anderson(p_val_arrV1, 'norm')"
   ]
  },
  {
   "cell_type": "markdown",
   "id": "c2f0bbfd",
   "metadata": {},
   "source": [
    "# Cramer-van-Mises"
   ]
  },
  {
   "cell_type": "code",
   "execution_count": null,
   "id": "6655c3f6",
   "metadata": {},
   "outputs": [],
   "source": [
    "#stats.cramervonmises([p for p in p_val_arrV2], 'uniform')"
   ]
  },
  {
   "cell_type": "code",
   "execution_count": null,
   "id": "70021dcc",
   "metadata": {},
   "outputs": [],
   "source": [
    "#stats.cramervonmises(q_res_arrV2, stats.chi2(10).cdf)"
   ]
  }
 ],
 "metadata": {
  "kernelspec": {
   "display_name": "Python 3.9.12 ('igl_venv': venv)",
   "language": "python",
   "name": "python3"
  },
  "language_info": {
   "codemirror_mode": {
    "name": "ipython",
    "version": 3
   },
   "file_extension": ".py",
   "mimetype": "text/x-python",
   "name": "python",
   "nbconvert_exporter": "python",
   "pygments_lexer": "ipython3",
   "version": "3.9.12"
  },
  "vscode": {
   "interpreter": {
    "hash": "79512243c53a3dfbf6ac1911176c59a5ac621b8697e468e321bcde11879099c9"
   }
  }
 },
 "nbformat": 4,
 "nbformat_minor": 5
}
