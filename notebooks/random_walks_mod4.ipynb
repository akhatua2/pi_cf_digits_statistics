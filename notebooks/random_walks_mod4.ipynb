{
 "cells": [
  {
   "cell_type": "code",
   "execution_count": 1,
   "id": "2abdba3b",
   "metadata": {},
   "outputs": [],
   "source": [
    "import math\n",
    "import numpy as np\n",
    "import random\n",
    "from collections import Counter\n",
    "from scipy import stats\n",
    "from tqdm import tqdm\n",
    "from scipy import stats"
   ]
  },
  {
   "cell_type": "code",
   "execution_count": null,
   "id": "d6f48612",
   "metadata": {},
   "outputs": [],
   "source": [
    "from os import walk\n",
    "mypath = '../data/'\n",
    "filenames = next(walk(mypath), (None, None, []))[2] \n",
    "\n",
    "NUM_DIGITS = 1000000\n",
    "NUM_RUNS = len(pi_cf_digits)//NUM_DIGITS\n",
    "\n",
    "pi_cf_digits = []\n",
    "for filename in tqdm(filenames):\n",
    "    pi_digits = np.load(filename)\n",
    "    pi_cf_digits.extend(pi_digits['arr_0'])\n",
    "pi_cf_digits = pi_cf_digits[:math.floor((len(pi_cf_digits)/NUM_DIGITS))* NUM_DIGITS]\n",
    "pi_cf_digits = [int(x) for x in pi_cf_digits]\n",
    "len(pi_cf_digits)"
   ]
  },
  {
   "cell_type": "markdown",
   "id": "59baa97a",
   "metadata": {},
   "source": [
    "# Normalized distance"
   ]
  },
  {
   "cell_type": "markdown",
   "id": "c322fcda",
   "metadata": {},
   "source": [
    "### Random Walk"
   ]
  },
  {
   "cell_type": "code",
   "execution_count": 13,
   "id": "0adf583b",
   "metadata": {},
   "outputs": [],
   "source": [
    "nums = [math.log(1+1/(k*(k+2)))/math.log(2) for k in range(1, NUM_DIGITS+1)]\n",
    "distribution = [0 for i in range(4)]\n",
    "for i in range(len(nums)):\n",
    "    distribution[i%4] += nums[i]\n",
    "inv_distribution = [1/distribution[i] for i in range(len(distribution))]\n",
    "normalized_inv_distribution = [float(i)/sum(inv_distribution) for i in inv_distribution]\n",
    "moves = [(1*inv_distribution[0], 0),\n",
    "         (0, 1*inv_distribution[1]),\n",
    "         (-1*inv_distribution[2], 0),\n",
    "         (0, -1*inv_distribution[3])]"
   ]
  },
  {
   "cell_type": "code",
   "execution_count": 14,
   "id": "89506b2d",
   "metadata": {},
   "outputs": [
    {
     "data": {
      "text/plain": [
       "[(2.000001442695982, 0),\n",
       " (0, 4.18055196959628),\n",
       " (-6.600844419128332, 0),\n",
       " (0, -9.149106876384758)]"
      ]
     },
     "execution_count": 14,
     "metadata": {},
     "output_type": "execute_result"
    }
   ],
   "source": [
    "moves"
   ]
  },
  {
   "cell_type": "code",
   "execution_count": 15,
   "id": "187d5114",
   "metadata": {},
   "outputs": [
    {
     "data": {
      "text/plain": [
       "[0.49999963932626473,\n",
       " 0.23920286298858545,\n",
       " 0.15149576879923704,\n",
       " 0.10930028619308763]"
      ]
     },
     "execution_count": 15,
     "metadata": {},
     "output_type": "execute_result"
    }
   ],
   "source": [
    "distribution"
   ]
  },
  {
   "cell_type": "code",
   "execution_count": 16,
   "id": "49d406ba",
   "metadata": {},
   "outputs": [],
   "source": [
    "def dist_from_origin(coordinates):\n",
    "    return math.sqrt((coordinates[0]**2) + (coordinates[1]**2))"
   ]
  },
  {
   "cell_type": "code",
   "execution_count": 17,
   "id": "e323127e",
   "metadata": {},
   "outputs": [],
   "source": [
    "def single_random_walk_run(random_dist):\n",
    "    random_walk = [(0, 0)]\n",
    "    for i in rand_distribution:\n",
    "        random_walk.append((random_walk[-1][0] + moves[i%4][0], random_walk[-1][1] + moves[i%4][1]))\n",
    "    distance = 0\n",
    "    for i in random_walk[1:]:\n",
    "        distance += dist_from_origin(i)\n",
    "    avg_dist = distance/(NUM_DIGITS * 500*math.pi)\n",
    "    return avg_dist"
   ]
  },
  {
   "cell_type": "code",
   "execution_count": 18,
   "id": "b892bebd",
   "metadata": {},
   "outputs": [
    {
     "name": "stderr",
     "output_type": "stream",
     "text": [
      "100%|███████████████████████████████████████| 1101/1101 [08:42<00:00,  2.11it/s]\n"
     ]
    }
   ],
   "source": [
    "avg_distances = []\n",
    "for i in tqdm(range(NUM_RUNS)):\n",
    "    rand_distribution = random.choices([0, 1, 2, 3], weights = distribution, k = NUM_DIGITS)\n",
    "    avg_distances.append(single_random_walk_run(rand_distribution))"
   ]
  },
  {
   "cell_type": "code",
   "execution_count": 19,
   "id": "80130a91",
   "metadata": {},
   "outputs": [
    {
     "data": {
      "text/plain": [
       "DescribeResult(nobs=1101, minmax=(0.4532371371916253, 5.231803993840657), mean=1.7857855380243446, variance=0.518788239987269, skewness=0.8994600851328021, kurtosis=1.0866449903814228)"
      ]
     },
     "execution_count": 19,
     "metadata": {},
     "output_type": "execute_result"
    }
   ],
   "source": [
    "stats.describe(avg_distances)"
   ]
  },
  {
   "cell_type": "markdown",
   "id": "4d59bffc",
   "metadata": {},
   "source": [
    "### $\\pi$ Walk"
   ]
  },
  {
   "cell_type": "code",
   "execution_count": 20,
   "id": "178de362",
   "metadata": {},
   "outputs": [],
   "source": [
    "groups = list(np.array_split(pi_cf_digits, NUM_RUNS))"
   ]
  },
  {
   "cell_type": "code",
   "execution_count": 21,
   "id": "3d34d89c",
   "metadata": {},
   "outputs": [],
   "source": [
    "def pi_walk(pi_digits):\n",
    "    mod_4_digits = [(i-1)%4 for i in pi_digits]\n",
    "    pi_walk = [(0, 0)]\n",
    "    for i in range(len(mod_4_digits)):\n",
    "        pi_walk.append((pi_walk[-1][0] + moves[mod_4_digits[i]][0], pi_walk[-1][1] + moves[mod_4_digits[i]][1]))\n",
    "    total_distance = 0\n",
    "    for i in range(len(pi_walk)):\n",
    "        total_distance += dist_from_origin(pi_walk[i])\n",
    "    return total_distance/(NUM_DIGITS * 500*math.pi)"
   ]
  },
  {
   "cell_type": "code",
   "execution_count": 22,
   "id": "2a0f75ac",
   "metadata": {},
   "outputs": [
    {
     "name": "stderr",
     "output_type": "stream",
     "text": [
      "100%|███████████████████████████████████████| 1101/1101 [11:33<00:00,  1.59it/s]\n"
     ]
    }
   ],
   "source": [
    "avg_pi_distances = []\n",
    "test = []\n",
    "for i in tqdm(range(NUM_RUNS)):\n",
    "    avg_pi_distances.append(pi_walk(groups[i]))"
   ]
  },
  {
   "cell_type": "code",
   "execution_count": 23,
   "id": "8cc6fed1",
   "metadata": {},
   "outputs": [
    {
     "data": {
      "text/plain": [
       "DescribeResult(nobs=1101, minmax=(0.5824486592593773, 4.34641277917184), mean=1.7404330248048623, variance=0.45385931195668205, skewness=0.7374880356861712, kurtosis=0.19689123911785256)"
      ]
     },
     "execution_count": 23,
     "metadata": {},
     "output_type": "execute_result"
    }
   ],
   "source": [
    "stats.describe(avg_pi_distances)"
   ]
  },
  {
   "cell_type": "markdown",
   "id": "9cc491b5",
   "metadata": {},
   "source": [
    "# Sites visited"
   ]
  },
  {
   "cell_type": "markdown",
   "id": "a11e3748",
   "metadata": {},
   "source": [
    "### Random Walk"
   ]
  },
  {
   "cell_type": "code",
   "execution_count": 24,
   "id": "892d0a4b",
   "metadata": {},
   "outputs": [],
   "source": [
    "nums = [math.log(1+1/(k*(k+2)))/math.log(2) for k in range(1, NUM_DIGITS+1)]\n",
    "distribution = [0 for i in range(4)]\n",
    "for i in range(len(nums)):\n",
    "    distribution[i%4] += nums[i]\n",
    "inv_distribution = [1/distribution[i] for i in range(len(distribution))]\n",
    "normalized_inv_distribution = [float(i)/np.average(inv_distribution) for i in inv_distribution]\n",
    "moves = [(1*normalized_inv_distribution[0], 0),\n",
    "         (0, 1*normalized_inv_distribution[1]),\n",
    "         (-1*normalized_inv_distribution[2], 0),\n",
    "         (0, -1*normalized_inv_distribution[3])]"
   ]
  },
  {
   "cell_type": "code",
   "execution_count": 25,
   "id": "c06ed8f6",
   "metadata": {},
   "outputs": [
    {
     "data": {
      "text/plain": [
       "[(0.3647889493367027, 0),\n",
       " (0, 0.7625090302838979),\n",
       " (-1.2039566817226974, 0),\n",
       " (0, -1.6687453386567015)]"
      ]
     },
     "execution_count": 25,
     "metadata": {},
     "output_type": "execute_result"
    }
   ],
   "source": [
    "moves"
   ]
  },
  {
   "cell_type": "code",
   "execution_count": 26,
   "id": "80f3c90d",
   "metadata": {},
   "outputs": [],
   "source": [
    "def single_random_walk_run(random_dist):\n",
    "    random_walk = [(0, 0)]\n",
    "    for i in rand_distribution:\n",
    "        random_walk.append((random_walk[-1][0] + moves[i%4][0], random_walk[-1][1] + moves[i%4][1]))\n",
    "    sites = set()\n",
    "    for i in random_walk:\n",
    "        sites.add((math.floor(i[0]), math.floor(i[1])))\n",
    "    return len(sites)"
   ]
  },
  {
   "cell_type": "code",
   "execution_count": 27,
   "id": "a67bbb1e",
   "metadata": {},
   "outputs": [
    {
     "name": "stderr",
     "output_type": "stream",
     "text": [
      "100%|███████████████████████████████████████| 1101/1101 [11:40<00:00,  1.57it/s]\n"
     ]
    }
   ],
   "source": [
    "sites_visited = []\n",
    "for i in tqdm(range(NUM_RUNS)):\n",
    "    rand_distribution = random.choices([0, 1, 2, 3], weights = distribution, k = NUM_DIGITS)\n",
    "    sites_visited.append(single_random_walk_run(rand_distribution))"
   ]
  },
  {
   "cell_type": "code",
   "execution_count": 28,
   "id": "327883a8",
   "metadata": {},
   "outputs": [
    {
     "data": {
      "text/plain": [
       "DescribeResult(nobs=1101, minmax=(103471, 178590), mean=148008.5676657584, variance=141171260.82018992, skewness=-0.46802186120354655, kurtosis=0.3069269027007637)"
      ]
     },
     "execution_count": 28,
     "metadata": {},
     "output_type": "execute_result"
    }
   ],
   "source": [
    "# sum\n",
    "stats.describe(sites_visited)"
   ]
  },
  {
   "cell_type": "code",
   "execution_count": 29,
   "id": "ca7d1fdf",
   "metadata": {},
   "outputs": [],
   "source": [
    "# random_groups = []\n",
    "# for i in range(NUM_RUNS):\n",
    "#     random_groups.append(random.choices([0, 1, 2, 3], weights = distribution, k = NUM_DIGITS))"
   ]
  },
  {
   "cell_type": "code",
   "execution_count": 30,
   "id": "62899c38",
   "metadata": {},
   "outputs": [],
   "source": [
    "# start = time.time()\n",
    "# sites_visited_v2 = Parallel(n_jobs=3)(delayed(run)(random_groups[i]) for i in range(NUM_RUNS))\n",
    "# print(time.time() - start)"
   ]
  },
  {
   "cell_type": "code",
   "execution_count": 31,
   "id": "23c2ad9f",
   "metadata": {},
   "outputs": [],
   "source": [
    "# stats.describe(sites_visited_v2)"
   ]
  },
  {
   "cell_type": "markdown",
   "id": "86ab0ccb",
   "metadata": {},
   "source": [
    "### $\\pi$ Walk"
   ]
  },
  {
   "cell_type": "code",
   "execution_count": 32,
   "id": "93c0425a",
   "metadata": {},
   "outputs": [],
   "source": [
    "groups = list(np.array_split(pi_cf_digits, NUM_RUNS))"
   ]
  },
  {
   "cell_type": "code",
   "execution_count": 33,
   "id": "b9ade805",
   "metadata": {},
   "outputs": [],
   "source": [
    "def pi_walk(pi_digits):\n",
    "    mod_4_digits = [(i-1)%4 for i in pi_digits]\n",
    "    pi_walk = [(0, 0)]\n",
    "    for i in range(len(mod_4_digits)):\n",
    "        pi_walk.append((pi_walk[-1][0] + moves[mod_4_digits[i]][0], pi_walk[-1][1] + moves[mod_4_digits[i]][1]))\n",
    "    sites = set()\n",
    "    for i in pi_walk:\n",
    "        sites.add((math.floor(i[0]), math.floor(i[1])))\n",
    "    return len(sites)"
   ]
  },
  {
   "cell_type": "code",
   "execution_count": 34,
   "id": "5c95daa8",
   "metadata": {},
   "outputs": [
    {
     "name": "stderr",
     "output_type": "stream",
     "text": [
      "100%|███████████████████████████████████████| 1101/1101 [14:12<00:00,  1.29it/s]\n"
     ]
    }
   ],
   "source": [
    "sites_visited_pi = []\n",
    "for i in tqdm(range(NUM_RUNS)):\n",
    "    sites_visited_pi.append(pi_walk(groups[i]))"
   ]
  },
  {
   "cell_type": "code",
   "execution_count": 35,
   "id": "1f10cafd",
   "metadata": {},
   "outputs": [
    {
     "data": {
      "text/plain": [
       "DescribeResult(nobs=1101, minmax=(96554, 176615), mean=146285.92915531335, variance=135363112.16043103, skewness=-0.5247485873879998, kurtosis=0.35934094714251863)"
      ]
     },
     "execution_count": 35,
     "metadata": {},
     "output_type": "execute_result"
    }
   ],
   "source": [
    "stats.describe(sites_visited_pi)"
   ]
  },
  {
   "cell_type": "code",
   "execution_count": null,
   "id": "848e5e05",
   "metadata": {},
   "outputs": [],
   "source": [
    "# DescribeResult(nobs=1000, minmax=(7065, 15616),             \n",
    "#                mean=11181.698, variance=1642525.7985945947,                \n",
    "#                skewness=-0.21542613565347027, kurtosis=-0.17792074227761923)"
   ]
  }
 ],
 "metadata": {
  "kernelspec": {
   "display_name": "Python 3 (ipykernel)",
   "language": "python",
   "name": "python3"
  },
  "language_info": {
   "codemirror_mode": {
    "name": "ipython",
    "version": 3
   },
   "file_extension": ".py",
   "mimetype": "text/x-python",
   "name": "python",
   "nbconvert_exporter": "python",
   "pygments_lexer": "ipython3",
   "version": "3.9.12"
  }
 },
 "nbformat": 4,
 "nbformat_minor": 5
}
