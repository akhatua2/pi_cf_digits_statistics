{
 "cells": [
  {
   "cell_type": "code",
   "execution_count": 1,
   "id": "7dd21cf6",
   "metadata": {},
   "outputs": [],
   "source": [
    "import math\n",
    "import numpy as np\n",
    "import random\n",
    "from collections import Counter\n",
    "from scipy import stats\n",
    "from tqdm import tqdm\n",
    "from scipy import stats"
   ]
  },
  {
   "cell_type": "code",
   "execution_count": 2,
   "id": "89f75055",
   "metadata": {},
   "outputs": [
    {
     "name": "stderr",
     "output_type": "stream",
     "text": [
      "  0%|                                                     | 0/3 [00:13<?, ?it/s]\n"
     ]
    },
    {
     "data": {
      "text/plain": [
       "349000000"
      ]
     },
     "execution_count": 2,
     "metadata": {},
     "output_type": "execute_result"
    }
   ],
   "source": [
    "from os import walk\n",
    "mypath = '../data/'\n",
    "filenames = next(walk(mypath), (None, None, []))[2] \n",
    "\n",
    "NUM_DIGITS = 1000000\n",
    "\n",
    "pi_cf_digits = []\n",
    "for filename in tqdm(filenames):\n",
    "    pi_digits = np.load(mypath+filename)\n",
    "    pi_cf_digits.extend(pi_digits['arr_0'])\n",
    "    break\n",
    "pi_cf_digits = pi_cf_digits[:math.floor((len(pi_cf_digits)/NUM_DIGITS))* NUM_DIGITS]\n",
    "pi_cf_digits = [int(x) for x in pi_cf_digits]\n",
    "NUM_RUNS = len(pi_cf_digits)//NUM_DIGITS\n",
    "len(pi_cf_digits)"
   ]
  },
  {
   "cell_type": "markdown",
   "id": "c9cd6474",
   "metadata": {},
   "source": [
    "# Random number list based on CF dist"
   ]
  },
  {
   "cell_type": "code",
   "execution_count": 3,
   "id": "787fbb6b",
   "metadata": {},
   "outputs": [],
   "source": [
    "CUTTOFF = 1000"
   ]
  },
  {
   "cell_type": "code",
   "execution_count": 4,
   "id": "76fc011f",
   "metadata": {},
   "outputs": [],
   "source": [
    "nums = [math.log(1+1/(k*(k+2)))/math.log(2) for k in range(1, NUM_DIGITS+1)]\n",
    "distribution = [0 for i in range(CUTTOFF)]\n",
    "for i in range(len(nums)):\n",
    "    distribution[i%CUTTOFF] += nums[i]"
   ]
  },
  {
   "cell_type": "code",
   "execution_count": 6,
   "id": "4748e079",
   "metadata": {},
   "outputs": [],
   "source": [
    "rand_distribution = random.choices([i for i in range(1, CUTTOFF+1)], weights = distribution, k = NUM_DIGITS)"
   ]
  }
 ],
 "metadata": {
  "kernelspec": {
   "display_name": "Python 3 (ipykernel)",
   "language": "python",
   "name": "python3"
  },
  "language_info": {
   "codemirror_mode": {
    "name": "ipython",
    "version": 3
   },
   "file_extension": ".py",
   "mimetype": "text/x-python",
   "name": "python",
   "nbconvert_exporter": "python",
   "pygments_lexer": "ipython3",
   "version": "3.9.12"
  }
 },
 "nbformat": 4,
 "nbformat_minor": 5
}
