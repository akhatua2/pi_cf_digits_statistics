{
 "cells": [
  {
   "cell_type": "code",
   "execution_count": 1,
   "id": "365d5ce1",
   "metadata": {},
   "outputs": [],
   "source": [
    "import numpy as np\n",
    "from scipy import stats\n",
    "import math\n",
    "from collections import defaultdict, Counter\n",
    "from tqdm import tqdm\n",
    "import pandas as pd\n",
    "import os  \n",
    "import time"
   ]
  },
  {
   "cell_type": "code",
   "execution_count": 2,
   "id": "1ce1606d",
   "metadata": {},
   "outputs": [],
   "source": [
    "MILLION = 1000000\n",
    "PAIRS = 6\n",
    "BLOCKSIZE = MILLION"
   ]
  },
  {
   "cell_type": "code",
   "execution_count": 3,
   "id": "36a04d3a",
   "metadata": {},
   "outputs": [
    {
     "name": "stderr",
     "output_type": "stream",
     "text": [
      "100%|█████████████████████████████████████████████| 3/3 [03:46<00:00, 75.47s/it]\n"
     ]
    },
    {
     "data": {
      "text/plain": [
       "1100000000"
      ]
     },
     "execution_count": 3,
     "metadata": {},
     "output_type": "execute_result"
    }
   ],
   "source": [
    "from os import walk\n",
    "mypath = '../data/'\n",
    "filenames = next(walk(mypath), (None, None, []))[2]\n",
    "\n",
    "pi_cf_digits = []\n",
    "for filename in tqdm(filenames):\n",
    "    pi_digits = np.load(mypath + filename)\n",
    "    pi_cf_digits.extend(pi_digits['arr_0'])\n",
    "    pi_cf_digits = pi_cf_digits[:math.floor((len(pi_cf_digits)/BLOCKSIZE))* BLOCKSIZE]\n",
    "pi_cf_digits = [int(x) for x in pi_cf_digits]\n",
    "len(pi_cf_digits)"
   ]
  },
  {
   "cell_type": "code",
   "execution_count": 4,
   "id": "d68d46c6",
   "metadata": {},
   "outputs": [],
   "source": [
    "def ChiSquare(data, blocksize=100, pairs=5):\n",
    "    p_val_arr = []\n",
    "    q_res_arr = []\n",
    "    number_of_blocks = len(data)/blocksize\n",
    "    \n",
    "    groups = list(np.array_split(data, number_of_blocks))\n",
    "    \n",
    "    def P(pairs):\n",
    "        p_dict = {}\n",
    "        for a in (range(1, pairs+1)):\n",
    "            for b in range(1, pairs+1):\n",
    "                prob = math.log(((a*b + a + b + 2)*(a*b + 1))/((a*b + a + 1)*(a*b + b + 1)))/math.log(2)\n",
    "                p_dict[(a, b)] = prob\n",
    "        p_dict['else'] = 1 - sum(list(p_dict.values()))\n",
    "        return p_dict\n",
    "\n",
    "    def Y(pi_digits, pairs):\n",
    "        y_dict = defaultdict(int)\n",
    "        for a, b in zip(pi_digits[:-1], pi_digits[1:]):\n",
    "            if a <=pairs and b <= pairs:\n",
    "                y_dict[(a, b)] += 1\n",
    "            else:\n",
    "                y_dict['else'] += 1\n",
    "        return y_dict\n",
    "    \n",
    "    def chisquare_test(y_array, p_array, blocksize, pairs):\n",
    "        q_val = 0\n",
    "        for a in (range(1, pairs+1)):\n",
    "            for b in range(1, pairs+1):\n",
    "                q_val += ((y_array[(a, b)] - blocksize*p_array[(a, b)])**2)/(blocksize*p_array[(a, b)])\n",
    "        return q_val\n",
    "    p_array = P(pairs)\n",
    "    for pi_cf_digits in tqdm(groups):\n",
    "        pi_digits = list(pi_cf_digits)\n",
    "\n",
    "        y_array = Y(pi_digits, pairs)\n",
    "        \n",
    "        q_res = chisquare_test(y_array, p_array, blocksize, pairs)\n",
    "        p_val = 1 - stats.chi2.cdf(q_res , len(p_array))\n",
    "        \n",
    "        p_val_arr.append(p_val)\n",
    "        q_res_arr.append(q_res)\n",
    "\n",
    "\n",
    "    result = defaultdict(list)\n",
    "    for p_val, q_val in zip(p_val_arr, q_res_arr):\n",
    "        result['p-value'].append(p_val)\n",
    "        result['chi-square value'].append(q_val)\n",
    "    df = pd.DataFrame(data=result)\n",
    "    filename = '../results/chi-square-pair-results-' + str(len(data)) +'-pi-digits-' + \\\n",
    "                str(int(number_of_blocks)) + '-blocks-' + str(number_of_groups) \\\n",
    "                + '-groups'\n",
    "    df.to_csv(filename + '.csv') \n",
    "    return p_val_arr, q_res_arr"
   ]
  },
  {
   "cell_type": "code",
   "execution_count": 5,
   "id": "fd950747",
   "metadata": {},
   "outputs": [
    {
     "name": "stderr",
     "output_type": "stream",
     "text": [
      "100%|███████████████████████████████████████| 1100/1100 [05:45<00:00,  3.18it/s]\n"
     ]
    },
    {
     "ename": "NameError",
     "evalue": "name 'number_of_groups' is not defined",
     "output_type": "error",
     "traceback": [
      "\u001b[0;31m---------------------------------------------------------------------------\u001b[0m",
      "\u001b[0;31mNameError\u001b[0m                                 Traceback (most recent call last)",
      "Input \u001b[0;32mIn [5]\u001b[0m, in \u001b[0;36m<module>\u001b[0;34m\u001b[0m\n\u001b[0;32m----> 1\u001b[0m p_val_arrV1, q_res_arrV1 \u001b[38;5;241m=\u001b[39m \u001b[43mChiSquare\u001b[49m\u001b[43m(\u001b[49m\u001b[43mpi_cf_digits\u001b[49m\u001b[43m,\u001b[49m\u001b[43m \u001b[49m\u001b[43mBLOCKSIZE\u001b[49m\u001b[43m,\u001b[49m\u001b[43m \u001b[49m\u001b[43mPAIRS\u001b[49m\u001b[43m)\u001b[49m\n",
      "Input \u001b[0;32mIn [4]\u001b[0m, in \u001b[0;36mChiSquare\u001b[0;34m(data, blocksize, pairs)\u001b[0m\n\u001b[1;32m     48\u001b[0m     result[\u001b[38;5;124m'\u001b[39m\u001b[38;5;124mchi-square value\u001b[39m\u001b[38;5;124m'\u001b[39m]\u001b[38;5;241m.\u001b[39mappend(q_val)\n\u001b[1;32m     49\u001b[0m df \u001b[38;5;241m=\u001b[39m pd\u001b[38;5;241m.\u001b[39mDataFrame(data\u001b[38;5;241m=\u001b[39mresult)\n\u001b[1;32m     50\u001b[0m filename \u001b[38;5;241m=\u001b[39m \u001b[38;5;124m'\u001b[39m\u001b[38;5;124m../results/chi-square-pair-results-\u001b[39m\u001b[38;5;124m'\u001b[39m \u001b[38;5;241m+\u001b[39m \u001b[38;5;28mstr\u001b[39m(\u001b[38;5;28mlen\u001b[39m(data)) \u001b[38;5;241m+\u001b[39m\u001b[38;5;124m'\u001b[39m\u001b[38;5;124m-pi-digits-\u001b[39m\u001b[38;5;124m'\u001b[39m \u001b[38;5;241m+\u001b[39m \\\n\u001b[0;32m---> 51\u001b[0m             \u001b[38;5;28mstr\u001b[39m(\u001b[38;5;28mint\u001b[39m(number_of_blocks)) \u001b[38;5;241m+\u001b[39m \u001b[38;5;124m'\u001b[39m\u001b[38;5;124m-blocks-\u001b[39m\u001b[38;5;124m'\u001b[39m \u001b[38;5;241m+\u001b[39m \u001b[38;5;28mstr\u001b[39m(\u001b[43mnumber_of_groups\u001b[49m) \\\n\u001b[1;32m     52\u001b[0m             \u001b[38;5;241m+\u001b[39m \u001b[38;5;124m'\u001b[39m\u001b[38;5;124m-groups\u001b[39m\u001b[38;5;124m'\u001b[39m\n\u001b[1;32m     53\u001b[0m df\u001b[38;5;241m.\u001b[39mto_csv(filename \u001b[38;5;241m+\u001b[39m \u001b[38;5;124m'\u001b[39m\u001b[38;5;124m.csv\u001b[39m\u001b[38;5;124m'\u001b[39m) \n\u001b[1;32m     54\u001b[0m \u001b[38;5;28;01mreturn\u001b[39;00m p_val_arr, q_res_arr\n",
      "\u001b[0;31mNameError\u001b[0m: name 'number_of_groups' is not defined"
     ]
    }
   ],
   "source": [
    "p_val_arrV1, q_res_arrV1 = ChiSquare(pi_cf_digits, BLOCKSIZE, PAIRS)"
   ]
  },
  {
   "cell_type": "code",
   "execution_count": null,
   "id": "9b0433f4",
   "metadata": {},
   "outputs": [],
   "source": [
    "p_val_arrV1"
   ]
  },
  {
   "cell_type": "code",
   "execution_count": null,
   "id": "1edce925",
   "metadata": {},
   "outputs": [],
   "source": []
  }
 ],
 "metadata": {
  "kernelspec": {
   "display_name": "Python 3 (ipykernel)",
   "language": "python",
   "name": "python3"
  },
  "language_info": {
   "codemirror_mode": {
    "name": "ipython",
    "version": 3
   },
   "file_extension": ".py",
   "mimetype": "text/x-python",
   "name": "python",
   "nbconvert_exporter": "python",
   "pygments_lexer": "ipython3",
   "version": "3.9.12"
  }
 },
 "nbformat": 4,
 "nbformat_minor": 5
}
