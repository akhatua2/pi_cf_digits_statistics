{
 "cells": [
  {
   "cell_type": "code",
   "execution_count": null,
   "id": "365d5ce1",
   "metadata": {},
   "outputs": [],
   "source": [
    "import numpy as np\n",
    "from scipy import stats\n",
    "import math\n",
    "from collections import defaultdict, Counter\n",
    "from tqdm import tqdm\n",
    "import pandas as pd\n",
    "import os  \n",
    "import time\n",
    "import matplotlib.pyplot as plt"
   ]
  },
  {
   "cell_type": "code",
   "execution_count": null,
   "id": "1ce1606d",
   "metadata": {},
   "outputs": [],
   "source": [
    "MILLION = 1000000\n",
    "PAIRS = 6\n",
    "BLOCKSIZE = MILLION"
   ]
  },
  {
   "cell_type": "code",
   "execution_count": null,
   "id": "36a04d3a",
   "metadata": {},
   "outputs": [],
   "source": [
    "from os import walk\n",
    "mypath = '../data/'\n",
    "filenames = next(walk(mypath), (None, None, []))[2]\n",
    "\n",
    "pi_cf_digits = []\n",
    "for filename in tqdm(filenames):\n",
    "    pi_digits = np.load(mypath + filename)\n",
    "    pi_cf_digits.extend(pi_digits['arr_0'])\n",
    "    pi_cf_digits = pi_cf_digits[:math.floor((len(pi_cf_digits)/BLOCKSIZE))* BLOCKSIZE]\n",
    "pi_cf_digits = [int(x) for x in pi_cf_digits]\n",
    "len(pi_cf_digits)"
   ]
  },
  {
   "cell_type": "code",
   "execution_count": null,
   "id": "d68d46c6",
   "metadata": {},
   "outputs": [],
   "source": [
    "def ChiSquare(data, blocksize=100, pairs=5):\n",
    "    p_val_arr = []\n",
    "    q_res_arr = []\n",
    "    number_of_blocks = len(data)/blocksize\n",
    "    \n",
    "    groups = list(np.array_split(data, number_of_blocks))\n",
    "    \n",
    "    def P(pairs):\n",
    "        p_dict = {}\n",
    "        for a in (range(1, pairs+1)):\n",
    "            for b in range(1, pairs+1):\n",
    "                prob = math.log(((a*b + a + b + 2)*(a*b + 1))/((a*b + a + 1)*(a*b + b + 1)))/math.log(2)\n",
    "                p_dict[(a, b)] = prob\n",
    "        p_dict['else'] = 1 - sum(list(p_dict.values()))\n",
    "        return p_dict\n",
    "\n",
    "    def Y(pi_digits, pairs):\n",
    "        y_dict = defaultdict(int)\n",
    "        for a, b in zip(pi_digits[:-1], pi_digits[1:]):\n",
    "            if a <=pairs and b <= pairs:\n",
    "                y_dict[(a, b)] += 1\n",
    "            else:\n",
    "                y_dict['else'] += 1\n",
    "        return y_dict\n",
    "    \n",
    "    def chisquare_test(y_array, p_array, blocksize, pairs):\n",
    "        q_val = 0\n",
    "        for a in (range(1, pairs+1)):\n",
    "            for b in range(1, pairs+1):\n",
    "                q_val += ((y_array[(a, b)] - blocksize*p_array[(a, b)])**2)/(blocksize*p_array[(a, b)])\n",
    "        return q_val\n",
    "    p_array = P(pairs)\n",
    "    for pi_cf_digits in tqdm(groups):\n",
    "        pi_digits = list(pi_cf_digits)\n",
    "\n",
    "        y_array = Y(pi_digits, pairs)\n",
    "        \n",
    "        q_res = chisquare_test(y_array, p_array, blocksize, pairs)\n",
    "        p_val = 1 - stats.chi2.cdf(q_res , len(p_array))\n",
    "        \n",
    "        p_val_arr.append(p_val)\n",
    "        q_res_arr.append(q_res)\n",
    "\n",
    "\n",
    "    result = defaultdict(list)\n",
    "    for p_val, q_val in zip(p_val_arr, q_res_arr):\n",
    "        result['p-value'].append(p_val)\n",
    "        result['chi-square value'].append(q_val)\n",
    "    df = pd.DataFrame(data=result)\n",
    "    filename = '../results/chi-square-pair-results-' + str(len(data)) +'-pi-digits-' + \\\n",
    "                str(int(number_of_blocks)) + '-blocks'\n",
    "    df.to_csv(filename + '.csv') \n",
    "    return p_val_arr, q_res_arr"
   ]
  },
  {
   "cell_type": "code",
   "execution_count": null,
   "id": "fd950747",
   "metadata": {},
   "outputs": [],
   "source": [
    "p_val_arrV1, q_res_arrV1 = ChiSquare(pi_cf_digits, BLOCKSIZE, PAIRS)"
   ]
  },
  {
   "cell_type": "code",
   "execution_count": null,
   "id": "9b0433f4",
   "metadata": {},
   "outputs": [],
   "source": [
    "p_val_arrV1"
   ]
  },
  {
   "cell_type": "code",
   "execution_count": null,
   "id": "1edce925",
   "metadata": {},
   "outputs": [],
   "source": [
    "def Y(pi_digits, pairs):\n",
    "    y_dict = defaultdict(int)\n",
    "    for a, b in zip(pi_digits[:-1], pi_digits[1:]):\n",
    "        if a <= pairs and b <= pairs:\n",
    "            y_dict[(a, b)] += 1\n",
    "        else:\n",
    "            y_dict['else'] += 1\n",
    "    return y_dict"
   ]
  },
  {
   "cell_type": "code",
   "execution_count": null,
   "id": "9ee6db7e",
   "metadata": {},
   "outputs": [],
   "source": [
    "test = Y(pi_cf_digits[:100000000], 3)"
   ]
  },
  {
   "cell_type": "code",
   "execution_count": null,
   "id": "29aa38dc",
   "metadata": {},
   "outputs": [],
   "source": [
    "test_test = dict(sorted(test.items(), key=lambda item: item[1]))"
   ]
  },
  {
   "cell_type": "code",
   "execution_count": null,
   "id": "b7594fb4",
   "metadata": {},
   "outputs": [],
   "source": [
    "names = list(test_test.keys())\n",
    "values = list([math.log(x) for x in test_test.values()])\n",
    "plt.figure(figsize=(20,10))\n",
    "plt.bar(range(len(test_test)), values, tick_label=names)\n",
    "plt.xticks(rotation = 90)\n",
    "plt.show()"
   ]
  },
  {
   "cell_type": "code",
   "execution_count": null,
   "id": "403bd8ba",
   "metadata": {},
   "outputs": [],
   "source": [
    "test_test"
   ]
  },
  {
   "cell_type": "code",
   "execution_count": null,
   "id": "8713c8aa",
   "metadata": {},
   "outputs": [],
   "source": []
  }
 ],
 "metadata": {
  "kernelspec": {
   "display_name": "Python 3.9.12 ('igl_venv': venv)",
   "language": "python",
   "name": "python3"
  },
  "language_info": {
   "codemirror_mode": {
    "name": "ipython",
    "version": 3
   },
   "file_extension": ".py",
   "mimetype": "text/x-python",
   "name": "python",
   "nbconvert_exporter": "python",
   "pygments_lexer": "ipython3",
   "version": "3.9.12"
  },
  "vscode": {
   "interpreter": {
    "hash": "79512243c53a3dfbf6ac1911176c59a5ac621b8697e468e321bcde11879099c9"
   }
  }
 },
 "nbformat": 4,
 "nbformat_minor": 5
}
