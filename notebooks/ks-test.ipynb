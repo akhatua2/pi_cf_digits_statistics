{
 "cells": [
  {
   "cell_type": "code",
   "execution_count": null,
   "id": "b47f4884",
   "metadata": {},
   "outputs": [],
   "source": [
    "import numpy as np\n",
    "import pandas as pd\n",
    "from scipy import stats"
   ]
  },
  {
   "cell_type": "code",
   "execution_count": null,
   "id": "a7159254",
   "metadata": {},
   "outputs": [],
   "source": [
    "filename = '../results/chisq-1B-digits-1K-blocks-10-groups.csv'"
   ]
  },
  {
   "cell_type": "code",
   "execution_count": null,
   "id": "b3456e82",
   "metadata": {},
   "outputs": [],
   "source": [
    "df = pd.read_csv (filename)"
   ]
  },
  {
   "cell_type": "code",
   "execution_count": null,
   "id": "eb5d8299",
   "metadata": {},
   "outputs": [],
   "source": [
    "p_val_arr = df['p-value']\n",
    "q_res_arr = df['chi-square value']"
   ]
  },
  {
   "cell_type": "code",
   "execution_count": null,
   "id": "7a43f5f0",
   "metadata": {},
   "outputs": [],
   "source": [
    "stats.kstest(q_res_arr, stats.chi2(10).cdf)"
   ]
  },
  {
   "cell_type": "code",
   "execution_count": null,
   "id": "4b6283d2",
   "metadata": {},
   "outputs": [],
   "source": [
    "stats.kstest(p_val_arr, 'uniform')"
   ]
  },
  {
   "cell_type": "code",
   "execution_count": null,
   "id": "93d296e3",
   "metadata": {},
   "outputs": [],
   "source": []
  }
 ],
 "metadata": {
  "kernelspec": {
   "display_name": "Python 3.9.12 ('igl_venv': venv)",
   "language": "python",
   "name": "python3"
  },
  "language_info": {
   "codemirror_mode": {
    "name": "ipython",
    "version": 3
   },
   "file_extension": ".py",
   "mimetype": "text/x-python",
   "name": "python",
   "nbconvert_exporter": "python",
   "pygments_lexer": "ipython3",
   "version": "3.9.12"
  },
  "vscode": {
   "interpreter": {
    "hash": "79512243c53a3dfbf6ac1911176c59a5ac621b8697e468e321bcde11879099c9"
   }
  }
 },
 "nbformat": 4,
 "nbformat_minor": 5
}
