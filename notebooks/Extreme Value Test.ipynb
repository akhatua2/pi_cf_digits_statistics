{
 "cells": [
  {
   "cell_type": "markdown",
   "id": "ff8bd492",
   "metadata": {},
   "source": [
    "# Max_Digit"
   ]
  },
  {
   "cell_type": "code",
   "execution_count": 1,
   "id": "8d34cdf7",
   "metadata": {},
   "outputs": [],
   "source": [
    "import numpy as np\n",
    "from scipy import stats\n",
    "import math\n",
    "from collections import defaultdict, Counter\n",
    "# import matplotlib.pyplot as plt\n",
    "from tqdm import tqdm\n",
    "# from scipy.signal import savgol_filter\n",
    "import pandas as pd\n",
    "import os  \n",
    "import time"
   ]
  },
  {
   "cell_type": "code",
   "execution_count": 2,
   "id": "ef65d57e",
   "metadata": {},
   "outputs": [],
   "source": [
    "pi_digits = np.load(\"iteration1_int.npz\")"
   ]
  },
  {
   "cell_type": "code",
   "execution_count": 3,
   "id": "30df5575",
   "metadata": {},
   "outputs": [],
   "source": [
    "pi_cf_digits = list(pi_digits['arr_0'])[1:100001] "
   ]
  },
  {
   "cell_type": "code",
   "execution_count": 4,
   "id": "4103bcc2",
   "metadata": {},
   "outputs": [],
   "source": [
    "def max_digit(data, blocksize=10000):\n",
    "\n",
    "    number_of_blocks = len(data)/blocksize\n",
    "    \n",
    "    groups = list(np.array_split(data, number_of_blocks))\n",
    "    k = []\n",
    "    for each_list in groups:\n",
    "        k.append(max(list(each_list)))\n",
    "    return k"
   ]
  },
  {
   "cell_type": "code",
   "execution_count": null,
   "id": "b8118af5",
   "metadata": {},
   "outputs": [],
   "source": [
    "max_digit(pi_cf_digits, blocksize=10000) "
   ]
  },
  {
   "cell_type": "markdown",
   "id": "ca16f400",
   "metadata": {},
   "source": [
    "# Quartiles"
   ]
  },
  {
   "cell_type": "code",
   "execution_count": 5,
   "id": "503ecbe6",
   "metadata": {},
   "outputs": [],
   "source": [
    "def quartiles(nlist, percent):\n",
    "\n",
    "    nlist = np.array(nlist)\n",
    "    return np.quantile(nlist, percent, method='nearest')\n",
    "#nearest: use the number in this list\n",
    "#others: nearest, lower, higher, midpoint"
   ]
  },
  {
   "cell_type": "code",
   "execution_count": 6,
   "id": "0a0bcb64",
   "metadata": {},
   "outputs": [
    {
     "data": {
      "text/plain": [
       "9937"
      ]
     },
     "execution_count": 6,
     "metadata": {},
     "output_type": "execute_result"
    }
   ],
   "source": [
    "k = max_digit(pi_cf_digits, blocksize=10000)\n",
    "quartiles(k, 0.10)"
   ]
  },
  {
   "cell_type": "code",
   "execution_count": 7,
   "id": "f95718e0",
   "metadata": {},
   "outputs": [
    {
     "data": {
      "text/plain": [
       "17538"
      ]
     },
     "execution_count": 7,
     "metadata": {},
     "output_type": "execute_result"
    }
   ],
   "source": [
    "k = max_digit(pi_cf_digits, blocksize=10000)\n",
    "quartiles(k, 0.25)"
   ]
  },
  {
   "cell_type": "code",
   "execution_count": 8,
   "id": "bfe2c59e",
   "metadata": {},
   "outputs": [
    {
     "data": {
      "text/plain": [
       "20776"
      ]
     },
     "execution_count": 8,
     "metadata": {},
     "output_type": "execute_result"
    }
   ],
   "source": [
    "k = max_digit(pi_cf_digits, blocksize=10000)\n",
    "quartiles(k, 0.50)"
   ]
  },
  {
   "cell_type": "code",
   "execution_count": 9,
   "id": "c478f559",
   "metadata": {},
   "outputs": [
    {
     "data": {
      "text/plain": [
       "47475"
      ]
     },
     "execution_count": 9,
     "metadata": {},
     "output_type": "execute_result"
    }
   ],
   "source": [
    "k = max_digit(pi_cf_digits, blocksize=10000)\n",
    "quartiles(k, 0.75)"
   ]
  },
  {
   "cell_type": "markdown",
   "id": "2fad475f",
   "metadata": {},
   "source": [
    "# Rare Event"
   ]
  },
  {
   "cell_type": "code",
   "execution_count": 10,
   "id": "8a5122a2",
   "metadata": {},
   "outputs": [],
   "source": [
    "pi_digits = np.load(\"iteration1_int.npz\")"
   ]
  },
  {
   "cell_type": "code",
   "execution_count": 11,
   "id": "9a6a1109",
   "metadata": {},
   "outputs": [],
   "source": [
    "pi_cf_digits = list(pi_digits['arr_0'])[1:100001] #one hundred thousand digits"
   ]
  },
  {
   "cell_type": "code",
   "execution_count": 13,
   "id": "8f35028e",
   "metadata": {},
   "outputs": [],
   "source": [
    "def prop_digits_sum(data, n = 10):\n",
    "    count = []\n",
    "\n",
    "    for i in range(n + 1):\n",
    "        count.append(0)\n",
    "\n",
    "    for i in range(n + 1):\n",
    "        count[i] = data.count(i)\n",
    "    \n",
    "    #print(count)\n",
    "    \n",
    "    p = sum(count)/len(data)\n",
    "    \n",
    "    return p\n",
    "# the first is count the digit 0, so it always equals to 0"
   ]
  },
  {
   "cell_type": "code",
   "execution_count": 14,
   "id": "eca5c2ca",
   "metadata": {},
   "outputs": [
    {
     "data": {
      "text/plain": [
       "0.95132"
      ]
     },
     "execution_count": 14,
     "metadata": {},
     "output_type": "execute_result"
    }
   ],
   "source": [
    "prop_digits_sum(pi_cf_digits, n = 28)\n",
    "#95% of cf digits do not exceed 28"
   ]
  },
  {
   "cell_type": "code",
   "execution_count": 15,
   "id": "aa96a8f6",
   "metadata": {},
   "outputs": [
    {
     "data": {
      "text/plain": [
       "0.95459"
      ]
     },
     "execution_count": 15,
     "metadata": {},
     "output_type": "execute_result"
    }
   ],
   "source": [
    "prop_digits_sum(pi_cf_digits, n = 30)"
   ]
  },
  {
   "cell_type": "code",
   "execution_count": 16,
   "id": "6be52468",
   "metadata": {},
   "outputs": [
    {
     "data": {
      "text/plain": [
       "0.96533"
      ]
     },
     "execution_count": 16,
     "metadata": {},
     "output_type": "execute_result"
    }
   ],
   "source": [
    "prop_digits_sum(pi_cf_digits, n = 40)"
   ]
  },
  {
   "cell_type": "code",
   "execution_count": null,
   "id": "35cd5225",
   "metadata": {},
   "outputs": [],
   "source": []
  }
 ],
 "metadata": {
  "kernelspec": {
   "display_name": "Python 3 (ipykernel)",
   "language": "python",
   "name": "python3"
  },
  "language_info": {
   "codemirror_mode": {
    "name": "ipython",
    "version": 3
   },
   "file_extension": ".py",
   "mimetype": "text/x-python",
   "name": "python",
   "nbconvert_exporter": "python",
   "pygments_lexer": "ipython3",
   "version": "3.8.5"
  }
 },
 "nbformat": 4,
 "nbformat_minor": 5
}
