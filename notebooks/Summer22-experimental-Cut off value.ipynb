{
 "cells": [
  {
   "cell_type": "markdown",
   "id": "f87d8fed",
   "metadata": {},
   "source": [
    "# Cut off value: Pr(max{Yi} >= m)"
   ]
  },
  {
   "cell_type": "code",
   "execution_count": 2,
   "id": "a1d4cd7e",
   "metadata": {},
   "outputs": [],
   "source": [
    "import numpy as np\n",
    "from scipy import stats\n",
    "import math\n",
    "from collections import defaultdict, Counter\n",
    "# import matplotlib.pyplot as plt\n",
    "from tqdm import tqdm\n",
    "# from scipy.signal import savgol_filter\n",
    "import pandas as pd\n",
    "import os  \n",
    "import time"
   ]
  },
  {
   "cell_type": "code",
   "execution_count": 3,
   "id": "68349d8e",
   "metadata": {},
   "outputs": [],
   "source": [
    "import math"
   ]
  },
  {
   "cell_type": "code",
   "execution_count": 4,
   "id": "c3b90364",
   "metadata": {},
   "outputs": [],
   "source": [
    "pi_digits = np.load(\"iteration1_int.npz\")"
   ]
  },
  {
   "cell_type": "code",
   "execution_count": 5,
   "id": "ab39753b",
   "metadata": {},
   "outputs": [],
   "source": [
    "def prob(m, blocksize = 1) :\n",
    "    \n",
    "    x = 1 - (math.log10(1 + (1/m)) / math.log10(2))\n",
    "    \n",
    "    p = 1 - (x ** blocksize)\n",
    "    \n",
    "    return p"
   ]
  },
  {
   "cell_type": "code",
   "execution_count": 6,
   "id": "adb77d68",
   "metadata": {},
   "outputs": [
    {
     "data": {
      "text/plain": [
       "0.01958369630365231"
      ]
     },
     "execution_count": 6,
     "metadata": {},
     "output_type": "execute_result"
    }
   ],
   "source": [
    "prob(m = 292, blocksize = 4) # data used in paper"
   ]
  },
  {
   "cell_type": "markdown",
   "id": "64ce59ff",
   "metadata": {},
   "source": [
    "# Pr-Max"
   ]
  },
  {
   "cell_type": "code",
   "execution_count": 12,
   "id": "02088d82",
   "metadata": {},
   "outputs": [],
   "source": [
    "pi_digits = np.load(\"iteration1_int.npz\")"
   ]
  },
  {
   "cell_type": "code",
   "execution_count": 13,
   "id": "48ec47c0",
   "metadata": {},
   "outputs": [],
   "source": [
    "pi_cf_digits = list(pi_digits['arr_0'])[1:10000001] #digits = 10M; blocksize = 100k"
   ]
  },
  {
   "cell_type": "code",
   "execution_count": 14,
   "id": "b4cc5016",
   "metadata": {},
   "outputs": [],
   "source": [
    "def pr_max(data, m, blocksize=100000):\n",
    "    \n",
    "    number_of_blocks = len(data)/blocksize\n",
    "    \n",
    "    groups = list(np.array_split(data, number_of_blocks))\n",
    "    \n",
    "    k = []\n",
    "    \n",
    "    for each_list in groups:\n",
    "        k.append(max(list(each_list)))\n",
    "    \n",
    "    count = 0\n",
    "    \n",
    "    for i in k :\n",
    "        if i > m:\n",
    "            count = count + 1\n",
    "    \n",
    "    p = count / number_of_blocks\n",
    "    \n",
    "    #print(number_of_blocks)\n",
    "    #print(k)\n",
    "    \n",
    "    \n",
    "    return p\n",
    "    \n",
    "    "
   ]
  },
  {
   "cell_type": "code",
   "execution_count": 15,
   "id": "c131be9e",
   "metadata": {},
   "outputs": [
    {
     "data": {
      "text/plain": [
       "0.019526"
      ]
     },
     "execution_count": 15,
     "metadata": {},
     "output_type": "execute_result"
    }
   ],
   "source": [
    "pr_max(pi_cf_digits, m = 292, blocksize=4)"
   ]
  },
  {
   "cell_type": "code",
   "execution_count": 16,
   "id": "de7a5760",
   "metadata": {},
   "outputs": [
    {
     "data": {
      "text/plain": [
       "-5.76963036523076e-05"
      ]
     },
     "execution_count": 16,
     "metadata": {},
     "output_type": "execute_result"
    }
   ],
   "source": [
    "pr_max(pi_cf_digits, m = 292, blocksize=4) - prob(m = 292, blocksize = 4)"
   ]
  },
  {
   "cell_type": "code",
   "execution_count": null,
   "id": "1f703e75",
   "metadata": {},
   "outputs": [],
   "source": []
  }
 ],
 "metadata": {
  "kernelspec": {
   "display_name": "Python 3 (ipykernel)",
   "language": "python",
   "name": "python3"
  },
  "language_info": {
   "codemirror_mode": {
    "name": "ipython",
    "version": 3
   },
   "file_extension": ".py",
   "mimetype": "text/x-python",
   "name": "python",
   "nbconvert_exporter": "python",
   "pygments_lexer": "ipython3",
   "version": "3.8.5"
  }
 },
 "nbformat": 4,
 "nbformat_minor": 5
}
