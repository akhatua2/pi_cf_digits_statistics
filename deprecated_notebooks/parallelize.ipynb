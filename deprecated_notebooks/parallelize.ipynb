{
 "cells": [
  {
   "cell_type": "code",
   "execution_count": 5,
   "id": "2ce8dee3",
   "metadata": {},
   "outputs": [],
   "source": [
    "import time\n",
    "from joblib import Parallel, delayed\n",
    "\n",
    "def countdown(n):\n",
    "    while n>0:\n",
    "        n -= 1\n",
    "    return '.'"
   ]
  },
  {
   "cell_type": "code",
   "execution_count": 7,
   "id": "cf1c89b8",
   "metadata": {},
   "outputs": [
    {
     "name": "stdout",
     "output_type": "stream",
     "text": [
      ". . . . . . . . . . . . . . . . . . . . \n",
      "\n",
      "7.7974841594696045\n"
     ]
    }
   ],
   "source": [
    "t = time.time()\n",
    "for _ in range(20):\n",
    "    print(countdown(10**7), end=\" \")\n",
    "print('\\n')\n",
    "print(time.time() - t)  "
   ]
  },
  {
   "cell_type": "code",
   "execution_count": 17,
   "id": "161ca12b",
   "metadata": {},
   "outputs": [
    {
     "name": "stdout",
     "output_type": "stream",
     "text": [
      "['.']\n",
      "0.4157981872558594\n",
      "['.']\n",
      "1.3304367065429688\n",
      "['.']\n",
      "0.6183829307556152\n",
      "['.']\n",
      "0.6348690986633301\n",
      "['.']\n",
      "0.39203929901123047\n",
      "['.']\n",
      "0.3934900760650635\n",
      "['.']\n",
      "0.39360618591308594\n",
      "['.']\n",
      "2.6491200923919678\n"
     ]
    }
   ],
   "source": [
    "for i in [1, 2, 4, 6, 8, 10, 12, 100]:\n",
    "    t = time.time()\n",
    "    results = Parallel(n_jobs=i)(delayed(countdown)(10**7) for _ in range(1))\n",
    "    print(results)\n",
    "    print(time.time() - t)"
   ]
  },
  {
   "cell_type": "code",
   "execution_count": null,
   "id": "0702b6a0",
   "metadata": {},
   "outputs": [],
   "source": []
  }
 ],
 "metadata": {
  "kernelspec": {
   "display_name": "Python 3 (ipykernel)",
   "language": "python",
   "name": "python3"
  },
  "language_info": {
   "codemirror_mode": {
    "name": "ipython",
    "version": 3
   },
   "file_extension": ".py",
   "mimetype": "text/x-python",
   "name": "python",
   "nbconvert_exporter": "python",
   "pygments_lexer": "ipython3",
   "version": "3.9.12"
  }
 },
 "nbformat": 4,
 "nbformat_minor": 5
}
