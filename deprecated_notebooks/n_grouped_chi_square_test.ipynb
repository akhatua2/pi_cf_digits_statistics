{
 "cells": [
  {
   "cell_type": "code",
   "execution_count": 1,
   "id": "a5a350c0",
   "metadata": {},
   "outputs": [],
   "source": [
    "import numpy as np\n",
    "from scipy import stats\n",
    "import math"
   ]
  },
  {
   "cell_type": "code",
   "execution_count": 2,
   "id": "7ad1c35e",
   "metadata": {},
   "outputs": [
    {
     "data": {
      "text/plain": [
       "['arr_0']"
      ]
     },
     "execution_count": 2,
     "metadata": {},
     "output_type": "execute_result"
    }
   ],
   "source": [
    "pi_digits = np.load(\"iteration1_int.npz\")\n",
    "list(pi_digits)"
   ]
  },
  {
   "cell_type": "code",
   "execution_count": 3,
   "id": "cb24761b",
   "metadata": {},
   "outputs": [],
   "source": [
    "pi_million_digits = list(pi_digits['arr_0'])[1:1000001]"
   ]
  },
  {
   "cell_type": "code",
   "execution_count": null,
   "id": "826424bf",
   "metadata": {},
   "outputs": [],
   "source": [
    "def P(num_of_groups):\n",
    "    res = []\n",
    "    for k in range(1, num_of_groups+1):\n",
    "        res.append(math.log(1+1/(k*(k+2)))/math.log(2))\n",
    "    res.append(1-sum(res))\n",
    "    return res\n",
    "\n",
    "def Y(N, pi_million_digits):\n",
    "    Y = [0] * (num_of_groups+1)\n",
    "    for digit in pi_million_digits:\n",
    "        if digit > num_of_groups:\n",
    "            Y[-1] += 1\n",
    "        else:\n",
    "            Y[digit-1] += 1\n",
    "    return Y\n",
    "\n",
    "def chisquare_test(Y, n, P, k):\n",
    "    Q = 0\n",
    "    for i in range(k):\n",
    "        Q += ((Y[i] - n*P[i])**2)/(n*P[i])\n",
    "    return Q"
   ]
  }
 ],
 "metadata": {
  "kernelspec": {
   "display_name": "Python 3 (ipykernel)",
   "language": "python",
   "name": "python3"
  },
  "language_info": {
   "codemirror_mode": {
    "name": "ipython",
    "version": 3
   },
   "file_extension": ".py",
   "mimetype": "text/x-python",
   "name": "python",
   "nbconvert_exporter": "python",
   "pygments_lexer": "ipython3",
   "version": "3.9.12"
  }
 },
 "nbformat": 4,
 "nbformat_minor": 5
}
