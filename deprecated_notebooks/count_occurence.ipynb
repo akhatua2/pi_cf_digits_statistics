{
 "cells": [
  {
   "cell_type": "code",
   "execution_count": 1,
   "id": "ec30fcb9",
   "metadata": {},
   "outputs": [],
   "source": [
    "import numpy as np\n",
    "from scipy import stats\n",
    "import math\n",
    "from collections import defaultdict\n",
    "import matplotlib.pyplot as plt\n",
    "from tqdm import tqdm\n",
    "from scipy.signal import savgol_filter"
   ]
  },
  {
   "cell_type": "code",
   "execution_count": 4,
   "id": "48769c7b",
   "metadata": {},
   "outputs": [],
   "source": [
    "pi_digits = np.load(\"../data/iteration1_int.npz\")"
   ]
  },
  {
   "cell_type": "code",
   "execution_count": 5,
   "id": "1ddf49c4",
   "metadata": {},
   "outputs": [
    {
     "data": {
      "text/plain": [
       "['arr_0']"
      ]
     },
     "execution_count": 5,
     "metadata": {},
     "output_type": "execute_result"
    }
   ],
   "source": [
    "list(pi_digits)"
   ]
  },
  {
   "cell_type": "code",
   "execution_count": 6,
   "id": "b5346635",
   "metadata": {},
   "outputs": [],
   "source": [
    "pi_million_digits = list(pi_digits['arr_0'])[1:1000001]"
   ]
  },
  {
   "cell_type": "code",
   "execution_count": 7,
   "id": "dd9d5805",
   "metadata": {},
   "outputs": [],
   "source": [
    "def P(num_of_groups):\n",
    "    res = []\n",
    "    for k in range(1, num_of_groups+1):\n",
    "        res.append(math.log(1+1/(k*(k+2)))/math.log(2))\n",
    "    res.append(1-sum(res))\n",
    "    return res\n",
    "\n",
    "def Y(num_of_groups, pi_million_digits):\n",
    "    Y = [0] * (num_of_groups+1)\n",
    "    for digit in pi_million_digits:\n",
    "        if digit > num_of_groups:\n",
    "            Y[-1] += 1\n",
    "        else:\n",
    "            Y[digit-1] += 1\n",
    "    return Y\n",
    "\n",
    "def chisquare_test(Y, n, P, k):\n",
    "    Q = 0\n",
    "    for i in range(k):\n",
    "        Q += ((Y[i] - n*P[i])**2)/(n*P[i])\n",
    "    return Q"
   ]
  },
  {
   "cell_type": "code",
   "execution_count": 8,
   "id": "eb50f81f",
   "metadata": {},
   "outputs": [],
   "source": [
    "n = len(pi_million_digits)\n",
    "k = 11 # number of groups"
   ]
  },
  {
   "cell_type": "code",
   "execution_count": 9,
   "id": "b41606b2",
   "metadata": {},
   "outputs": [],
   "source": [
    "y_array = Y(k-1, pi_million_digits)\n",
    "p_array = P(k-1)\n",
    "q_res = chisquare_test(y_array, n, p_array, k)\n",
    "p_val = 1 - stats.chi2.cdf(q_res , k-1)"
   ]
  },
  {
   "cell_type": "code",
   "execution_count": 10,
   "id": "c71d5fbc",
   "metadata": {},
   "outputs": [
    {
     "data": {
      "text/plain": [
       "0.163317326821394"
      ]
     },
     "execution_count": 10,
     "metadata": {},
     "output_type": "execute_result"
    }
   ],
   "source": [
    "p_val"
   ]
  },
  {
   "cell_type": "code",
   "execution_count": 11,
   "id": "dfa06411",
   "metadata": {},
   "outputs": [
    {
     "data": {
      "text/plain": [
       "14.21710022950165"
      ]
     },
     "execution_count": 11,
     "metadata": {},
     "output_type": "execute_result"
    }
   ],
   "source": [
    "q_res"
   ]
  },
  {
   "cell_type": "code",
   "execution_count": 12,
   "id": "a2883170",
   "metadata": {},
   "outputs": [
    {
     "data": {
      "text/plain": [
       "[414527,\n",
       " 170765,\n",
       " 92955,\n",
       " 58580,\n",
       " 40859,\n",
       " 29883,\n",
       " 22694,\n",
       " 17647,\n",
       " 14435,\n",
       " 12092,\n",
       " 125563]"
      ]
     },
     "execution_count": 12,
     "metadata": {},
     "output_type": "execute_result"
    }
   ],
   "source": [
    "y_array"
   ]
  },
  {
   "cell_type": "code",
   "execution_count": 14,
   "id": "574f6ac2",
   "metadata": {},
   "outputs": [],
   "source": [
    "y_array_prod = [y/1000000 for y in y_array]"
   ]
  },
  {
   "cell_type": "code",
   "execution_count": 15,
   "id": "035f3864",
   "metadata": {},
   "outputs": [
    {
     "data": {
      "text/plain": [
       "[0.414527,\n",
       " 0.170765,\n",
       " 0.092955,\n",
       " 0.05858,\n",
       " 0.040859,\n",
       " 0.029883,\n",
       " 0.022694,\n",
       " 0.017647,\n",
       " 0.014435,\n",
       " 0.012092,\n",
       " 0.125563]"
      ]
     },
     "execution_count": 15,
     "metadata": {},
     "output_type": "execute_result"
    }
   ],
   "source": [
    "y_array_prod"
   ]
  },
  {
   "cell_type": "code",
   "execution_count": 13,
   "id": "6ffa2093",
   "metadata": {},
   "outputs": [
    {
     "data": {
      "text/plain": [
       "[0.4150374992788437,\n",
       " 0.16992500144231237,\n",
       " 0.09310940439148147,\n",
       " 0.05889368905356862,\n",
       " 0.04064198449734577,\n",
       " 0.029747343394051932,\n",
       " 0.02272007650008345,\n",
       " 0.017921907997262315,\n",
       " 0.01449956969511517,\n",
       " 0.01197264166607594,\n",
       " 0.1255308820838592]"
      ]
     },
     "execution_count": 13,
     "metadata": {},
     "output_type": "execute_result"
    }
   ],
   "source": [
    "p_array"
   ]
  },
  {
   "cell_type": "markdown",
   "id": "14be8fe6",
   "metadata": {},
   "source": [
    "## comparing different splits of the digits of pi"
   ]
  },
  {
   "cell_type": "code",
   "execution_count": 11,
   "id": "e1ffff1e",
   "metadata": {},
   "outputs": [],
   "source": [
    "pi_10_million_digits = list(pi_digits['arr_0'])[1:10000001]"
   ]
  },
  {
   "cell_type": "code",
   "execution_count": 12,
   "id": "c436586e",
   "metadata": {},
   "outputs": [],
   "source": [
    "p_val_arr = []\n",
    "q_res_arr = []\n",
    "n = 1000000\n",
    "k = 11 # number of groups\n",
    "groups = list(np.array_split(pi_10_million_digits, 10))\n",
    "for pi_million_digits in groups:\n",
    "    pi_million_digits = list(pi_million_digits)\n",
    "    y_array = Y(k-1, pi_million_digits)\n",
    "    p_array = P(k-1)\n",
    "    q_res = chisquare_test(y_array, n, p_array, k)\n",
    "    p_val = 1 - stats.chi2.cdf(q_res , k-1)\n",
    "    p_val_arr.append(p_val)\n",
    "    q_res_arr.append(q_res)"
   ]
  },
  {
   "cell_type": "code",
   "execution_count": 13,
   "id": "2a85b43a",
   "metadata": {},
   "outputs": [
    {
     "data": {
      "text/plain": [
       "[0.163317326821394,\n",
       " 0.41723136761137947,\n",
       " 0.769171776069191,\n",
       " 0.9946965274927771,\n",
       " 0.988806237118358,\n",
       " 0.09961448516754245,\n",
       " 0.15877332297584423,\n",
       " 0.8879619700472958,\n",
       " 0.6356558470903804,\n",
       " 0.5153723438673805]"
      ]
     },
     "execution_count": 13,
     "metadata": {},
     "output_type": "execute_result"
    }
   ],
   "source": [
    "p_val_arr"
   ]
  },
  {
   "cell_type": "code",
   "execution_count": 14,
   "id": "08573da9",
   "metadata": {},
   "outputs": [
    {
     "data": {
      "text/plain": [
       "[14.21710022950165,\n",
       " 10.268849438264558,\n",
       " 6.5274930780594085,\n",
       " 2.1869041929422957,\n",
       " 2.632187668841219,\n",
       " 16.000625886637867,\n",
       " 14.32272875309117,\n",
       " 5.047802291514476,\n",
       " 7.930190195331557,\n",
       " 9.177211228116779]"
      ]
     },
     "execution_count": 14,
     "metadata": {},
     "output_type": "execute_result"
    }
   ],
   "source": [
    "q_res_arr"
   ]
  },
  {
   "cell_type": "markdown",
   "id": "c80956c9",
   "metadata": {},
   "source": [
    "## Pairs of digits (a,b) "
   ]
  },
  {
   "cell_type": "code",
   "execution_count": 15,
   "id": "71195e24",
   "metadata": {},
   "outputs": [],
   "source": [
    "pi_million_digits = pi_10_million_digits[:1000000]"
   ]
  },
  {
   "cell_type": "code",
   "execution_count": 30,
   "id": "0b2fd814",
   "metadata": {},
   "outputs": [],
   "source": [
    "pairs = defaultdict(int)\n",
    "for a, b in zip(pi_10_million_digits[:-1], pi_10_million_digits[1:]):\n",
    "    if a <=5 and b <= 5:\n",
    "        pairs[(a, b)] += 1\n",
    "    else:\n",
    "        pairs['else'] += 1"
   ]
  },
  {
   "cell_type": "code",
   "execution_count": 31,
   "id": "88618a0e",
   "metadata": {},
   "outputs": [
    {
     "data": {
      "text/plain": [
       "26"
      ]
     },
     "execution_count": 31,
     "metadata": {},
     "output_type": "execute_result"
    }
   ],
   "source": [
    "len(pairs)"
   ]
  },
  {
   "cell_type": "code",
   "execution_count": 50,
   "id": "c20991a2",
   "metadata": {},
   "outputs": [],
   "source": [
    "def P_pair(limit):\n",
    "    res = []\n",
    "    for i in range(1, limit+1):\n",
    "        for j in range(1, limit+1):\n",
    "            num = ((i * j) + i + j + 2)*((i * j)+1)\n",
    "            den = ((i * j) + i + 1)*((i * j) + j + 1)\n",
    "            #print(num, den)\n",
    "            res.append(math.log((num/den))/math.log(2))\n",
    "    res.append(1 - sum(res))\n",
    "    return res"
   ]
  },
  {
   "cell_type": "code",
   "execution_count": 51,
   "id": "7a500958",
   "metadata": {},
   "outputs": [],
   "source": [
    "def Y_pair(pairs, limit):\n",
    "    y = []\n",
    "    for i in range(1, limit+1):\n",
    "        for j in range(1, limit+1):\n",
    "            y.append(pairs[(i, j)])\n",
    "    y.append(pairs['else'])\n",
    "    return y"
   ]
  },
  {
   "cell_type": "code",
   "execution_count": 49,
   "id": "b9311b3c",
   "metadata": {},
   "outputs": [],
   "source": [
    "p_arr_pair = P_pair()"
   ]
  },
  {
   "cell_type": "code",
   "execution_count": 65,
   "id": "5616f8fa",
   "metadata": {},
   "outputs": [],
   "source": [
    "y_arr_pair = Y_pair(pairs)"
   ]
  },
  {
   "cell_type": "code",
   "execution_count": 70,
   "id": "0ed31294",
   "metadata": {},
   "outputs": [],
   "source": [
    "q_res = chisquare_test(y_arr_pair, 10000000, p_arr_pair, 26)\n",
    "p_val = 1 - stats.chi2.cdf(q_res , 25)"
   ]
  },
  {
   "cell_type": "code",
   "execution_count": 71,
   "id": "e2566e48",
   "metadata": {},
   "outputs": [
    {
     "data": {
      "text/plain": [
       "0.6006497296581867"
      ]
     },
     "execution_count": 71,
     "metadata": {},
     "output_type": "execute_result"
    }
   ],
   "source": [
    "p_val"
   ]
  },
  {
   "cell_type": "code",
   "execution_count": 72,
   "id": "7866a103",
   "metadata": {},
   "outputs": [
    {
     "data": {
      "text/plain": [
       "22.604434062295034"
      ]
     },
     "execution_count": 72,
     "metadata": {},
     "output_type": "execute_result"
    }
   ],
   "source": [
    "q_res"
   ]
  },
  {
   "cell_type": "markdown",
   "id": "0b4c857d",
   "metadata": {},
   "source": [
    "## Pairs of (a,b) where a and b are $\\in$ [1, limit]"
   ]
  },
  {
   "cell_type": "code",
   "execution_count": 48,
   "id": "307a0d21",
   "metadata": {},
   "outputs": [],
   "source": [
    "pi_30_million_digits = list(pi_digits['arr_0'])[1:30000001]"
   ]
  },
  {
   "cell_type": "code",
   "execution_count": 54,
   "id": "63d2fc97",
   "metadata": {},
   "outputs": [
    {
     "name": "stderr",
     "output_type": "stream",
     "text": [
      "100%|█████████████████████████████████████████| 300/300 [00:57<00:00,  5.20it/s]\n"
     ]
    }
   ],
   "source": [
    "p_val_arr = []\n",
    "q_res_arr = []\n",
    "n = 100000\n",
    "\n",
    "limit = 9\n",
    "k = (limit * limit) + 1 # number of groups\n",
    "groups = list(np.array_split(pi_30_million_digits, 300))\n",
    "for pi_million_digits in tqdm(groups):\n",
    "    pi_million_digits = list(pi_million_digits)\n",
    "    pairs = defaultdict(int)\n",
    "    for a, b in zip(pi_million_digits[:-1], pi_million_digits[1:]):\n",
    "        if a <=limit and b <= limit:\n",
    "            pairs[(a, b)] += 1\n",
    "        else:\n",
    "            pairs['else'] += 1\n",
    "    y_array = Y_pair(pairs, limit)\n",
    "    p_array = P_pair(limit)\n",
    "    q_res = chisquare_test(y_array, n, p_array, k)\n",
    "    p_val = 1 - stats.chi2.cdf(q_res , k-1)\n",
    "    p_val_arr.append(p_val)\n",
    "    q_res_arr.append(q_res)"
   ]
  },
  {
   "cell_type": "code",
   "execution_count": 55,
   "id": "4cb0a418",
   "metadata": {},
   "outputs": [
    {
     "data": {
      "text/plain": [
       "[<matplotlib.lines.Line2D at 0x1770c4e20>]"
      ]
     },
     "execution_count": 55,
     "metadata": {},
     "output_type": "execute_result"
    },
    {
     "data": {
      "image/png": "[encoded data removed]",
      "text/plain": [
       "<Figure size 432x288 with 1 Axes>"
      ]
     },
     "metadata": {
      "needs_background": "light"
     },
     "output_type": "display_data"
    }
   ],
   "source": [
    "plt.plot(p_val_arr)"
   ]
  },
  {
   "cell_type": "code",
   "execution_count": 57,
   "id": "12547c76",
   "metadata": {},
   "outputs": [],
   "source": [
    "import numpy as np\n",
    "import statsmodels.api as sm\n",
    "import pylab as py"
   ]
  },
  {
   "cell_type": "code",
   "execution_count": 65,
   "id": "aa82c4d5",
   "metadata": {},
   "outputs": [
    {
     "data": {
      "image/png": "[encoded data removed]",
      "text/plain": [
       "<Figure size 432x288 with 1 Axes>"
      ]
     },
     "metadata": {
      "needs_background": "light"
     },
     "output_type": "display_data"
    }
   ],
   "source": [
    "data_points = np.array(p_val_arr)    \n",
    "  \n",
    "sm.qqplot(data_points, line ='45')\n",
    "py.show()"
   ]
  },
  {
   "cell_type": "code",
   "execution_count": 66,
   "id": "da500138",
   "metadata": {},
   "outputs": [
    {
     "ename": "AttributeError",
     "evalue": "'numpy.ndarray' object has no attribute 'ppf'",
     "output_type": "error",
     "traceback": [
      "\u001b[0;31m---------------------------------------------------------------------------\u001b[0m",
      "\u001b[0;31mAttributeError\u001b[0m                            Traceback (most recent call last)",
      "Input \u001b[0;32mIn [66]\u001b[0m, in \u001b[0;36m<cell line: 6>\u001b[0;34m()\u001b[0m\n\u001b[1;32m      3\u001b[0m \u001b[38;5;28;01mimport\u001b[39;00m \u001b[38;5;21;01mscipy\u001b[39;00m\u001b[38;5;21;01m.\u001b[39;00m\u001b[38;5;21;01mstats\u001b[39;00m \u001b[38;5;28;01mas\u001b[39;00m \u001b[38;5;21;01mstats\u001b[39;00m\n\u001b[1;32m      5\u001b[0m measurements \u001b[38;5;241m=\u001b[39m np\u001b[38;5;241m.\u001b[39marray(p_val_arr)   \n\u001b[0;32m----> 6\u001b[0m \u001b[43mstats\u001b[49m\u001b[38;5;241;43m.\u001b[39;49m\u001b[43mprobplot\u001b[49m\u001b[43m(\u001b[49m\u001b[43mmeasurements\u001b[49m\u001b[43m,\u001b[49m\u001b[43m \u001b[49m\u001b[43mdist\u001b[49m\u001b[43m \u001b[49m\u001b[38;5;241;43m=\u001b[39;49m\u001b[43m \u001b[49m\u001b[43mstats\u001b[49m\u001b[38;5;241;43m.\u001b[39;49m\u001b[43mchi2\u001b[49m\u001b[38;5;241;43m.\u001b[39;49m\u001b[43mcdf\u001b[49m\u001b[43m(\u001b[49m\u001b[43mq_res_arr\u001b[49m\u001b[43m,\u001b[49m\u001b[43m \u001b[49m\u001b[43mdf\u001b[49m\u001b[38;5;241;43m=\u001b[39;49m\u001b[38;5;241;43m4\u001b[39;49m\u001b[43m)\u001b[49m\u001b[43m,\u001b[49m\u001b[43m \u001b[49m\u001b[43mplot\u001b[49m\u001b[38;5;241;43m=\u001b[39;49m\u001b[43mpylab\u001b[49m\u001b[43m)\u001b[49m\n\u001b[1;32m      7\u001b[0m pylab\u001b[38;5;241m.\u001b[39mshow()\n",
      "File \u001b[0;32m~/Documents/IGL/igl_venv/lib/python3.9/site-packages/scipy/stats/_morestats.py:601\u001b[0m, in \u001b[0;36mprobplot\u001b[0;34m(x, sparams, dist, fit, plot, rvalue)\u001b[0m\n\u001b[1;32m    598\u001b[0m \u001b[38;5;28;01mif\u001b[39;00m \u001b[38;5;129;01mnot\u001b[39;00m \u001b[38;5;28misinstance\u001b[39m(sparams, \u001b[38;5;28mtuple\u001b[39m):\n\u001b[1;32m    599\u001b[0m     sparams \u001b[38;5;241m=\u001b[39m \u001b[38;5;28mtuple\u001b[39m(sparams)\n\u001b[0;32m--> 601\u001b[0m osm \u001b[38;5;241m=\u001b[39m \u001b[43mdist\u001b[49m\u001b[38;5;241;43m.\u001b[39;49m\u001b[43mppf\u001b[49m(osm_uniform, \u001b[38;5;241m*\u001b[39msparams)\n\u001b[1;32m    602\u001b[0m osr \u001b[38;5;241m=\u001b[39m sort(x)\n\u001b[1;32m    603\u001b[0m \u001b[38;5;28;01mif\u001b[39;00m fit:\n\u001b[1;32m    604\u001b[0m     \u001b[38;5;66;03m# perform a linear least squares fit.\u001b[39;00m\n",
      "\u001b[0;31mAttributeError\u001b[0m: 'numpy.ndarray' object has no attribute 'ppf'"
     ]
    }
   ],
   "source": [
    "import numpy as np \n",
    "import pylab \n",
    "import scipy.stats as stats\n",
    "\n",
    "measurements = np.array(p_val_arr)   \n",
    "stats.probplot(measurements, dist = stats.chi2.cdf(q_res_arr, df=4), plot=pylab)\n",
    "pylab.show()"
   ]
  },
  {
   "cell_type": "code",
   "execution_count": 73,
   "id": "664023cf",
   "metadata": {},
   "outputs": [
    {
     "data": {
      "text/plain": [
       "array([0.00634998, 0.0245615 , 0.00523128, 0.02646542, 0.03161221,\n",
       "       0.02753047, 0.00831216, 0.00982683, 0.02821189, 0.02752595,\n",
       "       0.00940799, 0.00915115, 0.00106191, 0.02453801, 0.02129312,\n",
       "       0.01746062, 0.01206642, 0.0218378 , 0.01465373, 0.02370795,\n",
       "       0.03089078, 0.02977636, 0.00980031, 0.02500168, 0.0213394 ,\n",
       "       0.01180264, 0.02830679, 0.02364936, 0.03147835, 0.00455915,\n",
       "       0.02203629, 0.02168194, 0.03034514, 0.02806619, 0.03155666,\n",
       "       0.01403231, 0.02953904, 0.02410717, 0.02585355, 0.03131565,\n",
       "       0.00500216, 0.02733115, 0.00421605, 0.00036656, 0.02968779,\n",
       "       0.02906324, 0.02990166, 0.01636659, 0.03138438, 0.02173272,\n",
       "       0.02213233, 0.00254784, 0.00672613, 0.0252005 , 0.03158474,\n",
       "       0.0314173 , 0.00690442, 0.03147629, 0.0316242 , 0.01387075,\n",
       "       0.02717713, 0.01200542, 0.03033204, 0.03149923, 0.01841876,\n",
       "       0.01702471, 0.03165764, 0.0307097 , 0.0312747 , 0.01237318,\n",
       "       0.01090757, 0.02522685, 0.02347303, 0.03150471, 0.0295961 ,\n",
       "       0.02738864, 0.03141105, 0.03139408, 0.03086912, 0.02907608,\n",
       "       0.03121942, 0.02375243, 0.00749849, 0.02919695, 0.02799938,\n",
       "       0.02577952, 0.02106842, 0.02871333, 0.01123533, 0.02107433,\n",
       "       0.02933214, 0.01372325, 0.03154127, 0.02638671, 0.02599383,\n",
       "       0.01634856, 0.029061  , 0.00294581, 0.03148974, 0.00690034,\n",
       "       0.02943967, 0.0025569 , 0.028316  , 0.01128176, 0.02926543,\n",
       "       0.00527793, 0.03001077, 0.02693811, 0.00056201, 0.01168236,\n",
       "       0.02820426, 0.0292607 , 0.03141424, 0.0272034 , 0.0233161 ,\n",
       "       0.02457132, 0.01581349, 0.0247958 , 0.01614811, 0.03096005,\n",
       "       0.00537806, 0.00360667, 0.03029262, 0.00992544, 0.03081371,\n",
       "       0.02809079, 0.0192095 , 0.01313641, 0.02932573, 0.01885591,\n",
       "       0.02888585, 0.03167001, 0.02288383, 0.01949406, 0.02765593,\n",
       "       0.02824967, 0.02485084, 0.02769447, 0.03131483, 0.02467079,\n",
       "       0.01552251, 0.00589047, 0.01912556, 0.0279739 , 0.02658737,\n",
       "       0.0316463 , 0.00298348, 0.02335931, 0.03017475, 0.01555065,\n",
       "       0.00594818, 0.02664815, 0.02310303, 0.01059959, 0.02649446,\n",
       "       0.00819054, 0.02589838, 0.03136463, 0.01735933, 0.00851548,\n",
       "       0.00160289, 0.02853382, 0.03143848, 0.0315801 , 0.01885635,\n",
       "       0.01207499, 0.0228125 , 0.02886998, 0.00851945, 0.02868891,\n",
       "       0.02530987, 0.0311388 , 0.03159202, 0.02305238, 0.02675078,\n",
       "       0.00988617, 0.02224322, 0.03098999, 0.0315505 , 0.01540683,\n",
       "       0.00062408, 0.01400964, 0.03165421, 0.01370911, 0.02047257,\n",
       "       0.02970155, 0.0289502 , 0.02659615, 0.02126145, 0.00192402,\n",
       "       0.03139161, 0.01995677, 0.02653376, 0.03165946, 0.01605448,\n",
       "       0.01615602, 0.02034162, 0.03167118, 0.01053354, 0.03135811,\n",
       "       0.01907257, 0.01787759, 0.01568389, 0.00562294, 0.01550852,\n",
       "       0.03166846, 0.03065463, 0.01883463, 0.03113565, 0.03164881,\n",
       "       0.01300941, 0.00092426, 0.02504749, 0.01341254, 0.03106083,\n",
       "       0.02940605, 0.03155285, 0.02982607, 0.02611979, 0.00705034,\n",
       "       0.00315268, 0.03132512, 0.02552065, 0.02852059, 0.01626009,\n",
       "       0.02993935, 0.02481172, 0.02283063, 0.00749667, 0.00551656,\n",
       "       0.02960308, 0.02722861, 0.01121081, 0.0141562 , 0.01924638,\n",
       "       0.02193225, 0.00857121, 0.01864016, 0.01895029, 0.03062135,\n",
       "       0.03144943, 0.03017855, 0.00873349, 0.01529231, 0.0189704 ,\n",
       "       0.02051342, 0.03167099, 0.01660185, 0.0229132 , 0.01153055,\n",
       "       0.00250315, 0.0113135 , 0.0113543 , 0.02970548, 0.00514388,\n",
       "       0.02850487, 0.02798717, 0.01075739, 0.00389989, 0.03166231,\n",
       "       0.02619652, 0.02159759, 0.03165616, 0.02150884, 0.02266471,\n",
       "       0.02819883, 0.02964699, 0.02299516, 0.03101085, 0.00892415,\n",
       "       0.02943423, 0.02041839, 0.01453382, 0.02279022, 0.01545531,\n",
       "       0.02370664, 0.0143251 , 0.01815272, 0.01018363, 0.02975846,\n",
       "       0.03147485, 0.00153732, 0.01258179, 0.03087796, 0.03039888,\n",
       "       0.0284292 , 0.01748451, 0.0260006 , 0.01326903, 0.02011538,\n",
       "       0.02455834, 0.02694246, 0.03007971, 0.02923642, 0.00934564,\n",
       "       0.00883831, 0.02931681, 0.01833979, 0.0251415 , 0.01728137])"
      ]
     },
     "execution_count": 73,
     "metadata": {},
     "output_type": "execute_result"
    }
   ],
   "source": [
    "q = stats.chi2.pdf(q_res_arr, df=81)\n",
    "q"
   ]
  },
  {
   "cell_type": "code",
   "execution_count": 68,
   "id": "c006d40f",
   "metadata": {},
   "outputs": [
    {
     "data": {
      "image/png": "[encoded data removed]",
      "text/plain": [
       "<Figure size 432x288 with 1 Axes>"
      ]
     },
     "metadata": {
      "needs_background": "light"
     },
     "output_type": "display_data"
    }
   ],
   "source": [
    "yhat = savgol_filter(p_val_arr, 51, 3) # window size 51, polynomial order 3\n",
    "#plt.plot(p_val_arr)\n",
    "plt.plot(yhat, color='red')\n",
    "plt.show()"
   ]
  },
  {
   "cell_type": "code",
   "execution_count": 23,
   "id": "62f20a5c",
   "metadata": {},
   "outputs": [],
   "source": [
    "pairs_9 = defaultdict(int)\n",
    "for a, b in zip(pi_10_million_digits[:-1], pi_10_million_digits[1:]):\n",
    "    if a <=9 and b <= 9:\n",
    "        pairs_9[(a, b)] += 1\n",
    "    else:\n",
    "        pairs_9['else'] += 1"
   ]
  },
  {
   "cell_type": "code",
   "execution_count": 24,
   "id": "736e6a8e",
   "metadata": {},
   "outputs": [
    {
     "data": {
      "text/plain": [
       "defaultdict(int,\n",
       "            {'else': 2609659,\n",
       "             (1, 1): 1518214,\n",
       "             (1, 2): 703169,\n",
       "             (2, 1): 703972,\n",
       "             (1, 3): 406009,\n",
       "             (3, 1): 406435,\n",
       "             (2, 2): 291105,\n",
       "             (1, 4): 264626,\n",
       "             (4, 2): 100526,\n",
       "             (2, 6): 50397,\n",
       "             (6, 6): 7839,\n",
       "             (6, 3): 26300,\n",
       "             (3, 5): 36022,\n",
       "             (5, 1): 187026,\n",
       "             (1, 6): 138647,\n",
       "             (6, 8): 4625,\n",
       "             (8, 1): 84256,\n",
       "             (1, 7): 105865,\n",
       "             (7, 1): 106114,\n",
       "             (2, 3): 159354,\n",
       "             (3, 7): 19892,\n",
       "             (1, 8): 84214,\n",
       "             (6, 1): 137713,\n",
       "             (1, 5): 186436,\n",
       "             (5, 2): 69400,\n",
       "             (2, 4): 100234,\n",
       "             (4, 4): 32653,\n",
       "             (4, 1): 264164,\n",
       "             (2, 5): 69390,\n",
       "             (5, 4): 22003,\n",
       "             (2, 8): 30278,\n",
       "             (8, 2): 30505,\n",
       "             (7, 3): 19773,\n",
       "             (3, 3): 85075,\n",
       "             (7, 2): 38617,\n",
       "             (4, 9): 7754,\n",
       "             (9, 7): 2754,\n",
       "             (1, 9): 69030,\n",
       "             (3, 2): 159321,\n",
       "             (5, 3): 36002,\n",
       "             (2, 9): 24707,\n",
       "             (9, 1): 69489,\n",
       "             (6, 4): 16254,\n",
       "             (7, 9): 2773,\n",
       "             (4, 5): 22513,\n",
       "             (4, 3): 52963,\n",
       "             (3, 6): 25986,\n",
       "             (4, 6): 15992,\n",
       "             (6, 9): 3658,\n",
       "             (2, 7): 38947,\n",
       "             (4, 8): 9574,\n",
       "             (6, 2): 50720,\n",
       "             (9, 6): 3655,\n",
       "             (8, 6): 4620,\n",
       "             (5, 5): 14993,\n",
       "             (7, 7): 4506,\n",
       "             (8, 3): 15547,\n",
       "             (3, 4): 52666,\n",
       "             (8, 8): 2710,\n",
       "             (9, 3): 12546,\n",
       "             (7, 4): 12083,\n",
       "             (5, 6): 10771,\n",
       "             (4, 7): 11980,\n",
       "             (3, 9): 12611,\n",
       "             (7, 5): 8270,\n",
       "             (9, 2): 24554,\n",
       "             (9, 5): 5203,\n",
       "             (3, 8): 15572,\n",
       "             (5, 9): 5118,\n",
       "             (5, 7): 8315,\n",
       "             (5, 8): 6486,\n",
       "             (6, 5): 10771,\n",
       "             (8, 5): 6262,\n",
       "             (7, 6): 5758,\n",
       "             (9, 4): 7644,\n",
       "             (7, 8): 3519,\n",
       "             (8, 4): 9525,\n",
       "             (6, 7): 5848,\n",
       "             (8, 7): 3481,\n",
       "             (9, 8): 2078,\n",
       "             (9, 9): 1706,\n",
       "             (8, 9): 2257})"
      ]
     },
     "execution_count": 24,
     "metadata": {},
     "output_type": "execute_result"
    }
   ],
   "source": [
    "pairs_9"
   ]
  },
  {
   "cell_type": "code",
   "execution_count": 25,
   "id": "db21b45d",
   "metadata": {},
   "outputs": [
    {
     "data": {
      "text/plain": [
       "82"
      ]
     },
     "execution_count": 25,
     "metadata": {},
     "output_type": "execute_result"
    }
   ],
   "source": [
    "len(pairs_9)"
   ]
  },
  {
   "cell_type": "code",
   "execution_count": 27,
   "id": "1e6ef86d",
   "metadata": {},
   "outputs": [],
   "source": [
    "pairs_9_percent = defaultdict(int)\n",
    "for key, val in pairs_9.items():\n",
    "    pairs_9_percent[key] = val/100000"
   ]
  },
  {
   "cell_type": "code",
   "execution_count": 28,
   "id": "1bca52bd",
   "metadata": {},
   "outputs": [
    {
     "data": {
      "text/plain": [
       "defaultdict(int,\n",
       "            {'else': 26.09659,\n",
       "             (1, 1): 15.18214,\n",
       "             (1, 2): 7.03169,\n",
       "             (2, 1): 7.03972,\n",
       "             (1, 3): 4.06009,\n",
       "             (3, 1): 4.06435,\n",
       "             (2, 2): 2.91105,\n",
       "             (1, 4): 2.64626,\n",
       "             (4, 2): 1.00526,\n",
       "             (2, 6): 0.50397,\n",
       "             (6, 6): 0.07839,\n",
       "             (6, 3): 0.263,\n",
       "             (3, 5): 0.36022,\n",
       "             (5, 1): 1.87026,\n",
       "             (1, 6): 1.38647,\n",
       "             (6, 8): 0.04625,\n",
       "             (8, 1): 0.84256,\n",
       "             (1, 7): 1.05865,\n",
       "             (7, 1): 1.06114,\n",
       "             (2, 3): 1.59354,\n",
       "             (3, 7): 0.19892,\n",
       "             (1, 8): 0.84214,\n",
       "             (6, 1): 1.37713,\n",
       "             (1, 5): 1.86436,\n",
       "             (5, 2): 0.694,\n",
       "             (2, 4): 1.00234,\n",
       "             (4, 4): 0.32653,\n",
       "             (4, 1): 2.64164,\n",
       "             (2, 5): 0.6939,\n",
       "             (5, 4): 0.22003,\n",
       "             (2, 8): 0.30278,\n",
       "             (8, 2): 0.30505,\n",
       "             (7, 3): 0.19773,\n",
       "             (3, 3): 0.85075,\n",
       "             (7, 2): 0.38617,\n",
       "             (4, 9): 0.07754,\n",
       "             (9, 7): 0.02754,\n",
       "             (1, 9): 0.6903,\n",
       "             (3, 2): 1.59321,\n",
       "             (5, 3): 0.36002,\n",
       "             (2, 9): 0.24707,\n",
       "             (9, 1): 0.69489,\n",
       "             (6, 4): 0.16254,\n",
       "             (7, 9): 0.02773,\n",
       "             (4, 5): 0.22513,\n",
       "             (4, 3): 0.52963,\n",
       "             (3, 6): 0.25986,\n",
       "             (4, 6): 0.15992,\n",
       "             (6, 9): 0.03658,\n",
       "             (2, 7): 0.38947,\n",
       "             (4, 8): 0.09574,\n",
       "             (6, 2): 0.5072,\n",
       "             (9, 6): 0.03655,\n",
       "             (8, 6): 0.0462,\n",
       "             (5, 5): 0.14993,\n",
       "             (7, 7): 0.04506,\n",
       "             (8, 3): 0.15547,\n",
       "             (3, 4): 0.52666,\n",
       "             (8, 8): 0.0271,\n",
       "             (9, 3): 0.12546,\n",
       "             (7, 4): 0.12083,\n",
       "             (5, 6): 0.10771,\n",
       "             (4, 7): 0.1198,\n",
       "             (3, 9): 0.12611,\n",
       "             (7, 5): 0.0827,\n",
       "             (9, 2): 0.24554,\n",
       "             (9, 5): 0.05203,\n",
       "             (3, 8): 0.15572,\n",
       "             (5, 9): 0.05118,\n",
       "             (5, 7): 0.08315,\n",
       "             (5, 8): 0.06486,\n",
       "             (6, 5): 0.10771,\n",
       "             (8, 5): 0.06262,\n",
       "             (7, 6): 0.05758,\n",
       "             (9, 4): 0.07644,\n",
       "             (7, 8): 0.03519,\n",
       "             (8, 4): 0.09525,\n",
       "             (6, 7): 0.05848,\n",
       "             (8, 7): 0.03481,\n",
       "             (9, 8): 0.02078,\n",
       "             (9, 9): 0.01706,\n",
       "             (8, 9): 0.02257})"
      ]
     },
     "execution_count": 28,
     "metadata": {},
     "output_type": "execute_result"
    }
   ],
   "source": [
    "pairs_9_percent"
   ]
  },
  {
   "cell_type": "code",
   "execution_count": 74,
   "id": "3782273a",
   "metadata": {},
   "outputs": [],
   "source": [
    "all_digits = list(pi_digits['arr_0'])"
   ]
  },
  {
   "cell_type": "code",
   "execution_count": 76,
   "id": "82fee429",
   "metadata": {},
   "outputs": [
    {
     "data": {
      "text/plain": [
       "349157461"
      ]
     },
     "execution_count": 76,
     "metadata": {},
     "output_type": "execute_result"
    }
   ],
   "source": [
    "len(all_digits)"
   ]
  },
  {
   "cell_type": "code",
   "execution_count": 77,
   "id": "71449ec2",
   "metadata": {},
   "outputs": [],
   "source": [
    "pairs_9_all = defaultdict(int)\n",
    "for a, b in zip(all_digits[:-1], all_digits[1:]):\n",
    "    if a <=9 and b <= 9:\n",
    "        pairs_9_all[(a, b)] += 1\n",
    "    else:\n",
    "        pairs_9_all['else'] += 1"
   ]
  },
  {
   "cell_type": "code",
   "execution_count": 78,
   "id": "472f56d9",
   "metadata": {},
   "outputs": [],
   "source": [
    "pairs_9_all_percent = defaultdict(int)\n",
    "for key, val in pairs_9_all.items():\n",
    "    pairs_9_all_percent[key] = (val/len(all_digits))*100"
   ]
  },
  {
   "cell_type": "code",
   "execution_count": 79,
   "id": "99bd3aa5",
   "metadata": {},
   "outputs": [
    {
     "data": {
      "text/plain": [
       "defaultdict(int,\n",
       "            {(0, 7): 1,\n",
       "             'else': 91006419,\n",
       "             (1, 1): 53054688,\n",
       "             (1, 2): 24579862,\n",
       "             (2, 1): 24580449,\n",
       "             (1, 3): 14191435,\n",
       "             (3, 1): 14189865,\n",
       "             (2, 2): 10175548,\n",
       "             (1, 4): 9239484,\n",
       "             (4, 2): 3510285,\n",
       "             (2, 6): 1764369,\n",
       "             (6, 6): 272401,\n",
       "             (6, 3): 915795,\n",
       "             (3, 5): 1261146,\n",
       "             (5, 1): 6501426,\n",
       "             (1, 6): 4821403,\n",
       "             (6, 8): 159926,\n",
       "             (8, 1): 2953495,\n",
       "             (1, 7): 3717574,\n",
       "             (7, 1): 3717571,\n",
       "             (2, 3): 5569465,\n",
       "             (3, 7): 694680,\n",
       "             (1, 8): 2953978,\n",
       "             (6, 1): 4822132,\n",
       "             (1, 5): 6499818,\n",
       "             (5, 2): 2416743,\n",
       "             (2, 4): 3510372,\n",
       "             (4, 4): 1141071,\n",
       "             (4, 1): 9241182,\n",
       "             (2, 5): 2417505,\n",
       "             (5, 4): 773796,\n",
       "             (2, 8): 1059698,\n",
       "             (8, 2): 1059851,\n",
       "             (7, 3): 695274,\n",
       "             (3, 3): 2971842,\n",
       "             (7, 2): 1344483,\n",
       "             (4, 9): 266416,\n",
       "             (9, 7): 97218,\n",
       "             (1, 9): 2405125,\n",
       "             (3, 2): 5567880,\n",
       "             (5, 3): 1260757,\n",
       "             (2, 9): 855573,\n",
       "             (9, 1): 2406340,\n",
       "             (6, 4): 560241,\n",
       "             (7, 9): 97653,\n",
       "             (4, 5): 775087,\n",
       "             (4, 3): 1847632,\n",
       "             (3, 6): 915506,\n",
       "             (4, 6): 560845,\n",
       "             (6, 9): 129229,\n",
       "             (2, 7): 1346271,\n",
       "             (4, 8): 332252,\n",
       "             (6, 2): 1765734,\n",
       "             (9, 6): 128964,\n",
       "             (8, 6): 160091,\n",
       "             (5, 5): 523555,\n",
       "             (7, 7): 155215,\n",
       "             (8, 3): 545633,\n",
       "             (3, 4): 1850580,\n",
       "             (8, 8): 94783,\n",
       "             (9, 3): 437361,\n",
       "             (7, 4): 424563,\n",
       "             (5, 6): 377672,\n",
       "             (4, 7): 423318,\n",
       "             (3, 9): 438940,\n",
       "             (7, 5): 286212,\n",
       "             (9, 2): 855090,\n",
       "             (9, 5): 179869,\n",
       "             (3, 8): 545241,\n",
       "             (5, 9): 179081,\n",
       "             (5, 7): 286553,\n",
       "             (5, 8): 223894,\n",
       "             (6, 5): 377411,\n",
       "             (8, 5): 223142,\n",
       "             (7, 6): 206118,\n",
       "             (9, 4): 266834,\n",
       "             (7, 8): 121348,\n",
       "             (8, 4): 332406,\n",
       "             (6, 7): 205506,\n",
       "             (8, 7): 121169,\n",
       "             (9, 8): 75696,\n",
       "             (9, 9): 60581,\n",
       "             (8, 9): 75843})"
      ]
     },
     "execution_count": 79,
     "metadata": {},
     "output_type": "execute_result"
    }
   ],
   "source": [
    "pairs_9_all"
   ]
  },
  {
   "cell_type": "code",
   "execution_count": 80,
   "id": "0933b8eb",
   "metadata": {},
   "outputs": [
    {
     "data": {
      "text/plain": [
       "defaultdict(int,\n",
       "            {(0, 7): 2.864037323263729e-07,\n",
       "             'else': 26.06457806725774,\n",
       "             (1, 1): 15.195060660611231,\n",
       "             (1, 2): 7.039764216867186,\n",
       "             (2, 1): 7.039932335858061,\n",
       "             (1, 3): 4.064479951067121,\n",
       "             (3, 1): 4.064030297207368,\n",
       "             (2, 2): 2.9143149256661594,\n",
       "             (1, 4): 2.6462227023698057,\n",
       "             (4, 2): 1.0053587255292822,\n",
       "             (2, 6): 0.5053218668009503,\n",
       "             (6, 6): 0.0780166630894363,\n",
       "             (6, 3): 0.26228710604583066,\n",
       "             (3, 5): 0.3611969214084759,\n",
       "             (5, 1): 1.8620326718437215,\n",
       "             (1, 6): 1.3808678142495714,\n",
       "             (6, 8): 0.04580340329602752,\n",
       "             (8, 1): 0.8458919914072809,\n",
       "             (1, 7): 1.0647270687994834,\n",
       "             (7, 1): 1.0647262095882866,\n",
       "             (2, 3): 1.5951155630611027,\n",
       "             (3, 7): 0.19895894477248477,\n",
       "             (1, 8): 0.8460303244099946,\n",
       "             (6, 1): 1.3810766025704375,\n",
       "             (1, 5): 1.8615721346421408,\n",
       "             (5, 2): 0.6921642152736355,\n",
       "             (2, 4): 1.0053836426539944,\n",
       "             (4, 4): 0.3268069932493867,\n",
       "             (4, 1): 2.646709015907296,\n",
       "             (2, 5): 0.6923824549176681,\n",
       "             (5, 4): 0.22161806245921808,\n",
       "             (2, 8): 0.30350146233879277,\n",
       "             (8, 2): 0.30354528210983867,\n",
       "             (7, 3): 0.19912906858948662,\n",
       "             (3, 3): 0.8511466406842728,\n",
       "             (7, 2): 0.38506494924935886,\n",
       "             (4, 9): 0.07630253675146297,\n",
       "             (9, 7): 0.027843598049305324,\n",
       "             (1, 9): 0.6888367767114678,\n",
       "             (3, 2): 1.5946616131453655,\n",
       "             (5, 3): 0.36108551035660097,\n",
       "             (2, 9): 0.2450393004776719,\n",
       "             (9, 1): 0.6891847572462443,\n",
       "             (6, 4): 0.16045511340225949,\n",
       "             (7, 9): 0.0279681836728673,\n",
       "             (4, 5): 0.22198780967765142,\n",
       "             (4, 3): 0.529168700765641,\n",
       "             (3, 6): 0.2622043353671884,\n",
       "             (4, 6): 0.16062810125658464,\n",
       "             (6, 9): 0.03701166792480485,\n",
       "             (2, 7): 0.3855770391227584,\n",
       "             (4, 8): 0.09515821287290206,\n",
       "             (6, 2): 0.5057128078955758,\n",
       "             (9, 6): 0.03693577093573836,\n",
       "             (8, 6): 0.04585065991186137,\n",
       "             (5, 5): 0.14994810607813416,\n",
       "             (7, 7): 0.04445415531303798,\n",
       "             (8, 3): 0.15627132768043583,\n",
       "             (3, 4): 0.5300130189685393,\n",
       "             (8, 8): 0.027146204961090607,\n",
       "             (9, 3): 0.1252618227739948,\n",
       "             (7, 4): 0.12159642780768187,\n",
       "             (5, 6): 0.1081666703951659,\n",
       "             (4, 7): 0.12123985516093554,\n",
       "             (3, 9): 0.12571405426733814,\n",
       "             (7, 5): 0.08197218503659585,\n",
       "             (9, 2): 0.24490096747495824,\n",
       "             (9, 5): 0.051515152929812374,\n",
       "             (3, 8): 0.1561590574173639,\n",
       "             (5, 9): 0.05128946678873919,\n",
       "             (5, 7): 0.08206984870931915,\n",
       "             (5, 8): 0.06412407724548094,\n",
       "             (6, 5): 0.10809191902102874,\n",
       "             (8, 5): 0.0639087016387715,\n",
       "             (7, 6): 0.05903296449964733,\n",
       "             (9, 4): 0.07642225351157539,\n",
       "             (7, 8): 0.034754520110340706,\n",
       "             (8, 4): 0.09520231904768033,\n",
       "             (6, 7): 0.058857685415463594,\n",
       "             (8, 7): 0.034703253842254284,\n",
       "             (9, 8): 0.021679616922177125,\n",
       "             (9, 9): 0.017350624508064,\n",
       "             (8, 9): 0.021721718270829103})"
      ]
     },
     "execution_count": 80,
     "metadata": {},
     "output_type": "execute_result"
    }
   ],
   "source": [
    "pairs_9_all_percent"
   ]
  },
  {
   "cell_type": "code",
   "execution_count": 84,
   "id": "35e3f6bd",
   "metadata": {},
   "outputs": [
    {
     "name": "stdout",
     "output_type": "stream",
     "text": [
      "(1, 2) 7.039764216867186\n",
      "(2, 1) 7.039932335858061\n",
      "Difference:  0.00016811899087443294\n",
      "\n",
      "(1, 3) 4.064479951067121\n",
      "(3, 1) 4.064030297207368\n",
      "Difference:  0.0004496538597527078\n",
      "\n",
      "(1, 4) 2.6462227023698057\n",
      "(4, 1) 2.646709015907296\n",
      "Difference:  0.00048631353749017947\n",
      "\n",
      "(1, 5) 1.8615721346421408\n",
      "(5, 1) 1.8620326718437215\n",
      "Difference:  0.0004605372015806797\n",
      "\n",
      "(1, 6) 1.3808678142495714\n",
      "(6, 1) 1.3810766025704375\n",
      "Difference:  0.00020878832086612675\n",
      "\n",
      "(1, 7) 1.0647270687994834\n",
      "(7, 1) 1.0647262095882866\n",
      "Difference:  8.592111968575011e-07\n",
      "\n",
      "(1, 8) 0.8460303244099946\n",
      "(8, 1) 0.8458919914072809\n",
      "Difference:  0.00013833300271370863\n",
      "\n",
      "(1, 9) 0.6888367767114678\n",
      "(9, 1) 0.6891847572462443\n",
      "Difference:  0.00034798053477647084\n",
      "\n",
      "(2, 1) 7.039932335858061\n",
      "(1, 2) 7.039764216867186\n",
      "Difference:  0.00016811899087443294\n",
      "\n",
      "(2, 3) 1.5951155630611027\n",
      "(3, 2) 1.5946616131453655\n",
      "Difference:  0.0004539499157372173\n",
      "\n",
      "(2, 4) 1.0053836426539944\n",
      "(4, 2) 1.0053587255292822\n",
      "Difference:  2.4917124712198202e-05\n",
      "\n",
      "(2, 5) 0.6923824549176681\n",
      "(5, 2) 0.6921642152736355\n",
      "Difference:  0.0002182396440326695\n",
      "\n",
      "(2, 6) 0.5053218668009503\n",
      "(6, 2) 0.5057128078955758\n",
      "Difference:  0.00039094109462556315\n",
      "\n",
      "(2, 7) 0.3855770391227584\n",
      "(7, 2) 0.38506494924935886\n",
      "Difference:  0.0005120898733995682\n",
      "\n",
      "(2, 8) 0.30350146233879277\n",
      "(8, 2) 0.30354528210983867\n",
      "Difference:  4.3819771045894296e-05\n",
      "\n",
      "(2, 9) 0.2450393004776719\n",
      "(9, 2) 0.24490096747495824\n",
      "Difference:  0.00013833300271365312\n",
      "\n",
      "(3, 1) 4.064030297207368\n",
      "(1, 3) 4.064479951067121\n",
      "Difference:  0.0004496538597527078\n",
      "\n",
      "(3, 2) 1.5946616131453655\n",
      "(2, 3) 1.5951155630611027\n",
      "Difference:  0.0004539499157372173\n",
      "\n",
      "(3, 4) 0.5300130189685393\n",
      "(4, 3) 0.529168700765641\n",
      "Difference:  0.0008443182028982088\n",
      "\n",
      "(3, 5) 0.3611969214084759\n",
      "(5, 3) 0.36108551035660097\n",
      "Difference:  0.00011141105187495448\n",
      "\n",
      "(3, 6) 0.2622043353671884\n",
      "(6, 3) 0.26228710604583066\n",
      "Difference:  8.277067864226328e-05\n",
      "\n",
      "(3, 7) 0.19895894477248477\n",
      "(7, 3) 0.19912906858948662\n",
      "Difference:  0.0001701238170018493\n",
      "\n",
      "(3, 8) 0.1561590574173639\n",
      "(8, 3) 0.15627132768043583\n",
      "Difference:  0.000112270263071923\n",
      "\n",
      "(3, 9) 0.12571405426733814\n",
      "(9, 3) 0.1252618227739948\n",
      "Difference:  0.0004522314933433358\n",
      "\n",
      "(4, 1) 2.646709015907296\n",
      "(1, 4) 2.6462227023698057\n",
      "Difference:  0.00048631353749017947\n",
      "\n",
      "(4, 2) 1.0053587255292822\n",
      "(2, 4) 1.0053836426539944\n",
      "Difference:  2.4917124712198202e-05\n",
      "\n",
      "(4, 3) 0.529168700765641\n",
      "(3, 4) 0.5300130189685393\n",
      "Difference:  0.0008443182028982088\n",
      "\n",
      "(4, 5) 0.22198780967765142\n",
      "(5, 4) 0.22161806245921808\n",
      "Difference:  0.0003697472184333306\n",
      "\n",
      "(4, 6) 0.16062810125658464\n",
      "(6, 4) 0.16045511340225949\n",
      "Difference:  0.00017298785432515174\n",
      "\n",
      "(4, 7) 0.12123985516093554\n",
      "(7, 4) 0.12159642780768187\n",
      "Difference:  0.0003565726467463365\n",
      "\n",
      "(4, 8) 0.09515821287290206\n",
      "(8, 4) 0.09520231904768033\n",
      "Difference:  4.4106174778263396e-05\n",
      "\n",
      "(4, 9) 0.07630253675146297\n",
      "(9, 4) 0.07642225351157539\n",
      "Difference:  0.00011971676011242327\n",
      "\n",
      "(5, 1) 1.8620326718437215\n",
      "(1, 5) 1.8615721346421408\n",
      "Difference:  0.0004605372015806797\n",
      "\n",
      "(5, 2) 0.6921642152736355\n",
      "(2, 5) 0.6923824549176681\n",
      "Difference:  0.0002182396440326695\n",
      "\n",
      "(5, 3) 0.36108551035660097\n",
      "(3, 5) 0.3611969214084759\n",
      "Difference:  0.00011141105187495448\n",
      "\n",
      "(5, 4) 0.22161806245921808\n",
      "(4, 5) 0.22198780967765142\n",
      "Difference:  0.0003697472184333306\n",
      "\n",
      "(5, 6) 0.1081666703951659\n",
      "(6, 5) 0.10809191902102874\n",
      "Difference:  7.47513741371636e-05\n",
      "\n",
      "(5, 7) 0.08206984870931915\n",
      "(7, 5) 0.08197218503659585\n",
      "Difference:  9.766367272329157e-05\n",
      "\n",
      "(5, 8) 0.06412407724548094\n",
      "(8, 5) 0.0639087016387715\n",
      "Difference:  0.00021537560670943645\n",
      "\n",
      "(5, 9) 0.05128946678873919\n",
      "(9, 5) 0.051515152929812374\n",
      "Difference:  0.00022568614107318363\n",
      "\n",
      "(6, 1) 1.3810766025704375\n",
      "(1, 6) 1.3808678142495714\n",
      "Difference:  0.00020878832086612675\n",
      "\n",
      "(6, 2) 0.5057128078955758\n",
      "(2, 6) 0.5053218668009503\n",
      "Difference:  0.00039094109462556315\n",
      "\n",
      "(6, 3) 0.26228710604583066\n",
      "(3, 6) 0.2622043353671884\n",
      "Difference:  8.277067864226328e-05\n",
      "\n",
      "(6, 4) 0.16045511340225949\n",
      "(4, 6) 0.16062810125658464\n",
      "Difference:  0.00017298785432515174\n",
      "\n",
      "(6, 5) 0.10809191902102874\n",
      "(5, 6) 0.1081666703951659\n",
      "Difference:  7.47513741371636e-05\n",
      "\n",
      "(6, 7) 0.058857685415463594\n",
      "(7, 6) 0.05903296449964733\n",
      "Difference:  0.00017527908418373678\n",
      "\n",
      "(6, 8) 0.04580340329602752\n",
      "(8, 6) 0.04585065991186137\n",
      "Difference:  4.7256615833851656e-05\n",
      "\n",
      "(6, 9) 0.03701166792480485\n",
      "(9, 6) 0.03693577093573836\n",
      "Difference:  7.589698906648734e-05\n",
      "\n",
      "(7, 1) 1.0647262095882866\n",
      "(1, 7) 1.0647270687994834\n",
      "Difference:  8.592111968575011e-07\n",
      "\n",
      "(7, 2) 0.38506494924935886\n",
      "(2, 7) 0.3855770391227584\n",
      "Difference:  0.0005120898733995682\n",
      "\n",
      "(7, 3) 0.19912906858948662\n",
      "(3, 7) 0.19895894477248477\n",
      "Difference:  0.0001701238170018493\n",
      "\n",
      "(7, 4) 0.12159642780768187\n",
      "(4, 7) 0.12123985516093554\n",
      "Difference:  0.0003565726467463365\n",
      "\n",
      "(7, 5) 0.08197218503659585\n",
      "(5, 7) 0.08206984870931915\n",
      "Difference:  9.766367272329157e-05\n",
      "\n",
      "(7, 6) 0.05903296449964733\n",
      "(6, 7) 0.058857685415463594\n",
      "Difference:  0.00017527908418373678\n",
      "\n",
      "(7, 8) 0.034754520110340706\n",
      "(8, 7) 0.034703253842254284\n",
      "Difference:  5.126626808642232e-05\n",
      "\n",
      "(7, 9) 0.0279681836728673\n",
      "(9, 7) 0.027843598049305324\n",
      "Difference:  0.00012458562356197633\n",
      "\n",
      "(8, 1) 0.8458919914072809\n",
      "(1, 8) 0.8460303244099946\n",
      "Difference:  0.00013833300271370863\n",
      "\n",
      "(8, 2) 0.30354528210983867\n",
      "(2, 8) 0.30350146233879277\n",
      "Difference:  4.3819771045894296e-05\n",
      "\n",
      "(8, 3) 0.15627132768043583\n",
      "(3, 8) 0.1561590574173639\n",
      "Difference:  0.000112270263071923\n",
      "\n",
      "(8, 4) 0.09520231904768033\n",
      "(4, 8) 0.09515821287290206\n",
      "Difference:  4.4106174778263396e-05\n",
      "\n",
      "(8, 5) 0.0639087016387715\n",
      "(5, 8) 0.06412407724548094\n",
      "Difference:  0.00021537560670943645\n",
      "\n",
      "(8, 6) 0.04585065991186137\n",
      "(6, 8) 0.04580340329602752\n",
      "Difference:  4.7256615833851656e-05\n",
      "\n",
      "(8, 7) 0.034703253842254284\n",
      "(7, 8) 0.034754520110340706\n",
      "Difference:  5.126626808642232e-05\n",
      "\n",
      "(8, 9) 0.021721718270829103\n",
      "(9, 8) 0.021679616922177125\n",
      "Difference:  4.2101348651978066e-05\n",
      "\n",
      "(9, 1) 0.6891847572462443\n",
      "(1, 9) 0.6888367767114678\n",
      "Difference:  0.00034798053477647084\n",
      "\n",
      "(9, 2) 0.24490096747495824\n",
      "(2, 9) 0.2450393004776719\n",
      "Difference:  0.00013833300271365312\n",
      "\n",
      "(9, 3) 0.1252618227739948\n",
      "(3, 9) 0.12571405426733814\n",
      "Difference:  0.0004522314933433358\n",
      "\n",
      "(9, 4) 0.07642225351157539\n",
      "(4, 9) 0.07630253675146297\n",
      "Difference:  0.00011971676011242327\n",
      "\n",
      "(9, 5) 0.051515152929812374\n",
      "(5, 9) 0.05128946678873919\n",
      "Difference:  0.00022568614107318363\n",
      "\n",
      "(9, 6) 0.03693577093573836\n",
      "(6, 9) 0.03701166792480485\n",
      "Difference:  7.589698906648734e-05\n",
      "\n",
      "(9, 7) 0.027843598049305324\n",
      "(7, 9) 0.0279681836728673\n",
      "Difference:  0.00012458562356197633\n",
      "\n",
      "(9, 8) 0.021679616922177125\n",
      "(8, 9) 0.021721718270829103\n",
      "Difference:  4.2101348651978066e-05\n",
      "\n"
     ]
    }
   ],
   "source": [
    "for i in range(1, 10):\n",
    "    for j in range(1, 10):\n",
    "        if i != j:\n",
    "            print((i, j), pairs_9_all_percent[(i, j)])\n",
    "            print((j, i), pairs_9_all_percent[(j, i)])\n",
    "            print(\"Difference: \", abs(pairs_9_all_percent[(i, j)]-pairs_9_all_percent[(j, i)]))\n",
    "            print()"
   ]
  },
  {
   "cell_type": "code",
   "execution_count": null,
   "id": "8b987357",
   "metadata": {},
   "outputs": [],
   "source": []
  }
 ],
 "metadata": {
  "kernelspec": {
   "display_name": "Python 3 (ipykernel)",
   "language": "python",
   "name": "python3"
  },
  "language_info": {
   "codemirror_mode": {
    "name": "ipython",
    "version": 3
   },
   "file_extension": ".py",
   "mimetype": "text/x-python",
   "name": "python",
   "nbconvert_exporter": "python",
   "pygments_lexer": "ipython3",
   "version": "3.9.12"
  }
 },
 "nbformat": 4,
 "nbformat_minor": 5
}
