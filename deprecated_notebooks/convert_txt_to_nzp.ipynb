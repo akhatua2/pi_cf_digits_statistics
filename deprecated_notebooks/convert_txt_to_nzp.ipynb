{
 "cells": [
  {
   "cell_type": "code",
   "execution_count": 9,
   "id": "f9264823",
   "metadata": {},
   "outputs": [],
   "source": [
    "import numpy as np"
   ]
  },
  {
   "cell_type": "code",
   "execution_count": 10,
   "id": "41cc050d",
   "metadata": {},
   "outputs": [],
   "source": [
    "file_name = 'iteration3.txt'"
   ]
  },
  {
   "cell_type": "code",
   "execution_count": 11,
   "id": "c4b3898b",
   "metadata": {},
   "outputs": [],
   "source": [
    "pi_digits = np.loadtxt(file_name)"
   ]
  },
  {
   "cell_type": "code",
   "execution_count": 12,
   "id": "768f8ff9",
   "metadata": {},
   "outputs": [
    {
     "data": {
      "text/plain": [
       "381525293"
      ]
     },
     "execution_count": 12,
     "metadata": {},
     "output_type": "execute_result"
    }
   ],
   "source": [
    "len(pi_digits)"
   ]
  },
  {
   "cell_type": "code",
   "execution_count": 13,
   "id": "9e59d403",
   "metadata": {},
   "outputs": [],
   "source": [
    "out_filename = 'iteration3_int'"
   ]
  },
  {
   "cell_type": "code",
   "execution_count": 14,
   "id": "f66868b9",
   "metadata": {},
   "outputs": [],
   "source": [
    "np.savez(out_filename, pi_digits)"
   ]
  },
  {
   "cell_type": "code",
   "execution_count": null,
   "id": "07795536",
   "metadata": {},
   "outputs": [],
   "source": []
  }
 ],
 "metadata": {
  "kernelspec": {
   "display_name": "Python 3 (ipykernel)",
   "language": "python",
   "name": "python3"
  },
  "language_info": {
   "codemirror_mode": {
    "name": "ipython",
    "version": 3
   },
   "file_extension": ".py",
   "mimetype": "text/x-python",
   "name": "python",
   "nbconvert_exporter": "python",
   "pygments_lexer": "ipython3",
   "version": "3.9.12"
  }
 },
 "nbformat": 4,
 "nbformat_minor": 5
}
